{
 "cells": [
  {
   "cell_type": "markdown",
   "metadata": {},
   "source": [
    "# 作业2：决策树实现\n"
   ]
  },
  {
   "cell_type": "markdown",
   "metadata": {},
   "source": [
    "## 加载数据集\n",
    "加载训练数据集，并且通过descibe()方法和isnull()方法对数据集进行简单的初步分析"
   ]
  },
  {
   "cell_type": "code",
   "execution_count": 236,
   "metadata": {
    "execution": {
     "iopub.execute_input": "2022-04-22T03:23:51.683353Z",
     "iopub.status.busy": "2022-04-22T03:23:51.683063Z",
     "iopub.status.idle": "2022-04-22T03:23:51.699797Z",
     "shell.execute_reply": "2022-04-22T03:23:51.698905Z",
     "shell.execute_reply.started": "2022-04-22T03:23:51.683316Z"
    }
   },
   "outputs": [
    {
     "data": {
      "text/html": [
       "<div>\n",
       "<style scoped>\n",
       "    .dataframe tbody tr th:only-of-type {\n",
       "        vertical-align: middle;\n",
       "    }\n",
       "\n",
       "    .dataframe tbody tr th {\n",
       "        vertical-align: top;\n",
       "    }\n",
       "\n",
       "    .dataframe thead th {\n",
       "        text-align: right;\n",
       "    }\n",
       "</style>\n",
       "<table border=\"1\" class=\"dataframe\">\n",
       "  <thead>\n",
       "    <tr style=\"text-align: right;\">\n",
       "      <th></th>\n",
       "      <th>buying</th>\n",
       "      <th>maint</th>\n",
       "      <th>doors</th>\n",
       "      <th>persons</th>\n",
       "      <th>lug_boot</th>\n",
       "      <th>safety</th>\n",
       "      <th>class</th>\n",
       "    </tr>\n",
       "  </thead>\n",
       "  <tbody>\n",
       "    <tr>\n",
       "      <th>0</th>\n",
       "      <td>vhigh</td>\n",
       "      <td>vhigh</td>\n",
       "      <td>2</td>\n",
       "      <td>2</td>\n",
       "      <td>small</td>\n",
       "      <td>low</td>\n",
       "      <td>unacc</td>\n",
       "    </tr>\n",
       "    <tr>\n",
       "      <th>1</th>\n",
       "      <td>vhigh</td>\n",
       "      <td>vhigh</td>\n",
       "      <td>2</td>\n",
       "      <td>2</td>\n",
       "      <td>small</td>\n",
       "      <td>med</td>\n",
       "      <td>unacc</td>\n",
       "    </tr>\n",
       "    <tr>\n",
       "      <th>2</th>\n",
       "      <td>vhigh</td>\n",
       "      <td>vhigh</td>\n",
       "      <td>2</td>\n",
       "      <td>2</td>\n",
       "      <td>small</td>\n",
       "      <td>high</td>\n",
       "      <td>unacc</td>\n",
       "    </tr>\n",
       "    <tr>\n",
       "      <th>3</th>\n",
       "      <td>vhigh</td>\n",
       "      <td>vhigh</td>\n",
       "      <td>2</td>\n",
       "      <td>2</td>\n",
       "      <td>med</td>\n",
       "      <td>low</td>\n",
       "      <td>unacc</td>\n",
       "    </tr>\n",
       "    <tr>\n",
       "      <th>4</th>\n",
       "      <td>vhigh</td>\n",
       "      <td>vhigh</td>\n",
       "      <td>2</td>\n",
       "      <td>2</td>\n",
       "      <td>med</td>\n",
       "      <td>med</td>\n",
       "      <td>unacc</td>\n",
       "    </tr>\n",
       "  </tbody>\n",
       "</table>\n",
       "</div>"
      ],
      "text/plain": [
       "  buying  maint doors persons lug_boot safety  class\n",
       "0  vhigh  vhigh     2       2    small    low  unacc\n",
       "1  vhigh  vhigh     2       2    small    med  unacc\n",
       "2  vhigh  vhigh     2       2    small   high  unacc\n",
       "3  vhigh  vhigh     2       2      med    low  unacc\n",
       "4  vhigh  vhigh     2       2      med    med  unacc"
      ]
     },
     "execution_count": 236,
     "metadata": {},
     "output_type": "execute_result"
    }
   ],
   "source": [
    "import numpy as np \n",
    "import pandas as pd \n",
    "\n",
    "train_data = pd.read_csv(\"kaggle/input/car/car_evaluation.csv\", header=None)\n",
    "train_data.columns = ['buying', 'maint', 'doors', 'persons', 'lug_boot', 'safety', 'class']\n",
    "train_data.head()"
   ]
  },
  {
   "cell_type": "code",
   "execution_count": 237,
   "metadata": {},
   "outputs": [
    {
     "data": {
      "text/plain": [
       "buying      0\n",
       "maint       0\n",
       "doors       0\n",
       "persons     0\n",
       "lug_boot    0\n",
       "safety      0\n",
       "class       0\n",
       "dtype: int64"
      ]
     },
     "execution_count": 237,
     "metadata": {},
     "output_type": "execute_result"
    }
   ],
   "source": [
    "train_data.isnull().sum()"
   ]
  },
  {
   "cell_type": "markdown",
   "metadata": {},
   "source": [
    "## 调用决策树进行分类"
   ]
  },
  {
   "cell_type": "markdown",
   "metadata": {},
   "source": [
    "实现译码器，并补充测试正确率的方法"
   ]
  },
  {
   "cell_type": "code",
   "execution_count": 238,
   "metadata": {},
   "outputs": [],
   "source": [
    "import category_encoders as ce\n",
    "encoder = ce.OrdinalEncoder(cols=['buying', 'maint', 'doors', 'persons', 'lug_boot', 'safety'])\n",
    "\n",
    "def accuracy(y_true, y_pred):\n",
    "    return np.mean(y_true == y_pred)"
   ]
  },
  {
   "cell_type": "markdown",
   "metadata": {},
   "source": [
    "将数据集分为训练集和测试集，并且进行译码"
   ]
  },
  {
   "cell_type": "code",
   "execution_count": 239,
   "metadata": {},
   "outputs": [],
   "source": [
    "from sklearn.model_selection import train_test_split\n",
    "X_train, X_test, y_train, y_test = train_test_split(train_data.drop(['class'], axis=1), train_data['class'], test_size=0.3, random_state=42)\n",
    "\n",
    "X_train = encoder.fit_transform(X_train)\n",
    "X_test = encoder.transform(X_test)"
   ]
  },
  {
   "cell_type": "markdown",
   "metadata": {},
   "source": [
    "调用商用ID3决策树进行分类，并输出正确率"
   ]
  },
  {
   "cell_type": "code",
   "execution_count": 240,
   "metadata": {},
   "outputs": [
    {
     "name": "stdout",
     "output_type": "stream",
     "text": [
      "The accuracy in the train data set:  1.0\n",
      "The accuracy in the test data set:   0.9421965317919075\n"
     ]
    }
   ],
   "source": [
    "from sklearn.tree import DecisionTreeClassifier\n",
    "\n",
    "model2 = DecisionTreeClassifier(criterion='entropy', max_depth=15)\n",
    "model2.fit(X_train, y_train)\n",
    "y_pred_train_sklearn = model2.predict(X_train)\n",
    "y_pred_test_sklearn = model2.predict(X_test)\n",
    "print(\"The accuracy in the train data set: \", accuracy(y_train, y_pred_train_sklearn))\n",
    "print(\"The accuracy in the test data set:  \", accuracy(y_test, y_pred_test_sklearn))"
   ]
  },
  {
   "cell_type": "markdown",
   "metadata": {},
   "source": [
    "调用自行实现的 ID3 决策树进行分类，并输出正确率"
   ]
  },
  {
   "cell_type": "code",
   "execution_count": 241,
   "metadata": {},
   "outputs": [
    {
     "name": "stdout",
     "output_type": "stream",
     "text": [
      "The accuracy in the train data set:  0.9710504549214226\n",
      "The accuracy in the test data set:   0.9190751445086706\n"
     ]
    }
   ],
   "source": [
    "from DecisionTree import DecisionTree\n",
    "dt = DecisionTree(max_depth=5)\n",
    "dt.fit(X_train, y_train)\n",
    "y_pred_train = dt.predict(X_train)\n",
    "y_pred_test = dt.predict(X_test)\n",
    "print(\"The accuracy in the train data set: \", accuracy(y_train, y_pred_train))\n",
    "print(\"The accuracy in the test data set:  \", accuracy(y_test, y_pred_test))"
   ]
  },
  {
   "cell_type": "markdown",
   "metadata": {},
   "source": [
    "## 检验对比决策树模型\n"
   ]
  },
  {
   "cell_type": "markdown",
   "metadata": {},
   "source": [
    "使用t校验来检测两个决策树模型是否有显著差异"
   ]
  },
  {
   "cell_type": "code",
   "execution_count": 242,
   "metadata": {},
   "outputs": [
    {
     "name": "stdout",
     "output_type": "stream",
     "text": [
      "The array of error for sklearn:  [0.25722543 0.20231214 0.19942197 0.22028986 0.27536232]\n",
      "The array of error for my decision tree:  [0.23410405 0.21098266 0.20231214 0.22898551 0.28695652]\n",
      "The check_t:  -0.18220123281149483\n"
     ]
    }
   ],
   "source": [
    "from sklearn import model_selection\n",
    "errorlist_sklearn = np.array([])\n",
    "errorlist_mydecis = np.array([])\n",
    "\n",
    "# split the train_data into 5 folds\n",
    "kf = model_selection.KFold(n_splits=5, shuffle=True, random_state=42)\n",
    "for train_index, test_index in kf.split(train_data):\n",
    "    X_train, X_test = train_data.iloc[train_index], train_data.iloc[test_index]\n",
    "    y_train, y_test = X_train['class'], X_test['class']\n",
    "    X_train = encoder.fit_transform(X_train.drop(['class'], axis=1))\n",
    "    X_test = encoder.transform(X_test.drop(['class'], axis=1))\n",
    "\n",
    "    dt = DecisionTree(max_depth=2)\n",
    "    dt.fit(X_train, y_train)\n",
    "    y_pred_train = dt.predict(X_train)\n",
    "    y_pred_test = dt.predict(X_test)\n",
    "    errorlist_mydecis = np.append(errorlist_mydecis, 1 - accuracy(y_test, y_pred_test))\n",
    "\n",
    "    dt2 = DecisionTreeClassifier(criterion='entropy', max_depth=2)\n",
    "    dt2.fit(X_train, y_train)\n",
    "    y_pred_train_sklearn = dt2.predict(X_train)\n",
    "    y_pred_test_sklearn = dt2.predict(X_test)\n",
    "    errorlist_sklearn = np.append(errorlist_sklearn, 1 - accuracy(y_test, y_pred_test_sklearn))\n",
    "\n",
    "print(\"The array of error for sklearn: \", errorlist_sklearn)\n",
    "print(\"The array of error for my decision tree: \", errorlist_mydecis)\n",
    "\n",
    "error = errorlist_sklearn - np.mean(errorlist_mydecis)\n",
    "check_t = np.sqrt(10 / np.var(error)) * np.mean(error)\n",
    "print(\"The check_t: \", check_t)"
   ]
  },
  {
   "cell_type": "code",
   "execution_count": 243,
   "metadata": {},
   "outputs": [
    {
     "name": "stdout",
     "output_type": "stream",
     "text": [
      "The t-statistic:  -0.08255088912599556\n",
      "The p-value:  0.9362367668355995\n"
     ]
    }
   ],
   "source": [
    "# t-test\n",
    "from scipy import stats\n",
    "t_statistic, p_value = stats.ttest_ind(errorlist_sklearn, errorlist_mydecis)\n",
    "print(\"The t-statistic: \", t_statistic)\n",
    "print(\"The p-value: \", p_value)"
   ]
  }
 ],
 "metadata": {
  "interpreter": {
   "hash": "e1f97f006b972e8dfe38a8d91c2bf2c031bf4f73ad3e0aca385f71094316cb0a"
  },
  "kernelspec": {
   "display_name": "Python 3",
   "language": "python",
   "name": "python3"
  },
  "language_info": {
   "codemirror_mode": {
    "name": "ipython",
    "version": 3
   },
   "file_extension": ".py",
   "mimetype": "text/x-python",
   "name": "python",
   "nbconvert_exporter": "python",
   "pygments_lexer": "ipython3",
   "version": "3.8.8"
  }
 },
 "nbformat": 4,
 "nbformat_minor": 4
}
