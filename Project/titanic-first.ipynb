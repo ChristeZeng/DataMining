{
 "cells": [
  {
   "cell_type": "code",
   "execution_count": 904,
   "id": "b01b0349",
   "metadata": {
    "_cell_guid": "b1076dfc-b9ad-4769-8c92-a6c4dae69d19",
    "_uuid": "8f2839f25d086af736a60e9eeb907d3b93b6e0e5",
    "execution": {
     "iopub.execute_input": "2022-05-16T08:31:55.792415Z",
     "iopub.status.busy": "2022-05-16T08:31:55.791097Z",
     "iopub.status.idle": "2022-05-16T08:31:55.810255Z",
     "shell.execute_reply": "2022-05-16T08:31:55.808517Z"
    },
    "papermill": {
     "duration": 0.045981,
     "end_time": "2022-05-16T08:31:55.812305",
     "exception": false,
     "start_time": "2022-05-16T08:31:55.766324",
     "status": "completed"
    },
    "tags": []
   },
   "outputs": [],
   "source": [
    "import numpy as np # linear algebra\n",
    "import pandas as pd # data processing, CSV file I/O (e.g. pd.read_csv)\n",
    "\n",
    "import os\n",
    "for dirname, _, filenames in os.walk('/kaggle/input'):\n",
    "    for filename in filenames:\n",
    "        print(os.path.join(dirname, filename))\n",
    "\n",
    "# You can write up to 20GB to the current directory (/kaggle/working/) that gets preserved as output when you create a version using \"Save & Run All\" \n",
    "# You can also write temporary files to /kaggle/temp/, but they won't be saved outside of the current session"
   ]
  },
  {
   "cell_type": "markdown",
   "id": "78d90af1",
   "metadata": {
    "papermill": {
     "duration": 0.015068,
     "end_time": "2022-05-16T08:31:55.843187",
     "exception": false,
     "start_time": "2022-05-16T08:31:55.828119",
     "status": "completed"
    },
    "tags": []
   },
   "source": [
    "## 加载数据集\n",
    "加载训练数据集，并且通过descibe()方法和isnull()方法对数据集进行简单的初步分析"
   ]
  },
  {
   "cell_type": "code",
   "execution_count": 905,
   "id": "7ebc33d2",
   "metadata": {
    "execution": {
     "iopub.execute_input": "2022-05-16T08:31:55.891666Z",
     "iopub.status.busy": "2022-05-16T08:31:55.891376Z",
     "iopub.status.idle": "2022-05-16T08:31:55.919414Z",
     "shell.execute_reply": "2022-05-16T08:31:55.918746Z"
    },
    "papermill": {
     "duration": 0.053426,
     "end_time": "2022-05-16T08:31:55.921204",
     "exception": false,
     "start_time": "2022-05-16T08:31:55.867778",
     "status": "completed"
    },
    "tags": []
   },
   "outputs": [
    {
     "data": {
      "text/plain": [
       "PassengerId      0\n",
       "Pclass           0\n",
       "Name             0\n",
       "Sex              0\n",
       "Age             86\n",
       "SibSp            0\n",
       "Parch            0\n",
       "Ticket           0\n",
       "Fare             1\n",
       "Cabin          327\n",
       "Embarked         0\n",
       "dtype: int64"
      ]
     },
     "execution_count": 905,
     "metadata": {},
     "output_type": "execute_result"
    }
   ],
   "source": [
    "test_data = pd.read_csv(\"kaggle/input/titanic/test.csv\")\n",
    "test_data.isnull().sum()"
   ]
  },
  {
   "cell_type": "code",
   "execution_count": 906,
   "id": "4500ea6c",
   "metadata": {
    "execution": {
     "iopub.execute_input": "2022-05-16T08:31:55.954059Z",
     "iopub.status.busy": "2022-05-16T08:31:55.953423Z",
     "iopub.status.idle": "2022-05-16T08:31:55.975817Z",
     "shell.execute_reply": "2022-05-16T08:31:55.974394Z"
    },
    "papermill": {
     "duration": 0.041547,
     "end_time": "2022-05-16T08:31:55.978105",
     "exception": false,
     "start_time": "2022-05-16T08:31:55.936558",
     "status": "completed"
    },
    "tags": []
   },
   "outputs": [
    {
     "name": "stdout",
     "output_type": "stream",
     "text": [
      "PassengerId      0\n",
      "Survived         0\n",
      "Pclass           0\n",
      "Name             0\n",
      "Sex              0\n",
      "Age            177\n",
      "SibSp            0\n",
      "Parch            0\n",
      "Ticket           0\n",
      "Fare             0\n",
      "Cabin          687\n",
      "Embarked         2\n",
      "dtype: int64\n"
     ]
    }
   ],
   "source": [
    "train_data = pd.read_csv(\"kaggle/input/titanic/train.csv\")\n",
    "print(train_data.isnull().sum())"
   ]
  },
  {
   "cell_type": "markdown",
   "id": "0e4480f6",
   "metadata": {},
   "source": [
    "为方便数据预处理，现将测试集与训练集进行合并"
   ]
  },
  {
   "cell_type": "code",
   "execution_count": 907,
   "id": "0a7b805e",
   "metadata": {},
   "outputs": [],
   "source": [
    "# join the two datasets\n",
    "titanic = pd.concat([train_data, test_data])"
   ]
  },
  {
   "cell_type": "code",
   "execution_count": 908,
   "id": "771c4e46",
   "metadata": {
    "execution": {
     "iopub.execute_input": "2022-05-16T08:31:56.011276Z",
     "iopub.status.busy": "2022-05-16T08:31:56.010857Z",
     "iopub.status.idle": "2022-05-16T08:31:56.030253Z",
     "shell.execute_reply": "2022-05-16T08:31:56.028963Z"
    },
    "papermill": {
     "duration": 0.038282,
     "end_time": "2022-05-16T08:31:56.031877",
     "exception": false,
     "start_time": "2022-05-16T08:31:55.993595",
     "status": "completed"
    },
    "tags": []
   },
   "outputs": [
    {
     "data": {
      "text/html": [
       "<div>\n",
       "<style scoped>\n",
       "    .dataframe tbody tr th:only-of-type {\n",
       "        vertical-align: middle;\n",
       "    }\n",
       "\n",
       "    .dataframe tbody tr th {\n",
       "        vertical-align: top;\n",
       "    }\n",
       "\n",
       "    .dataframe thead th {\n",
       "        text-align: right;\n",
       "    }\n",
       "</style>\n",
       "<table border=\"1\" class=\"dataframe\">\n",
       "  <thead>\n",
       "    <tr style=\"text-align: right;\">\n",
       "      <th></th>\n",
       "      <th>PassengerId</th>\n",
       "      <th>Survived</th>\n",
       "      <th>Pclass</th>\n",
       "      <th>Name</th>\n",
       "      <th>Sex</th>\n",
       "      <th>Age</th>\n",
       "      <th>SibSp</th>\n",
       "      <th>Parch</th>\n",
       "      <th>Ticket</th>\n",
       "      <th>Fare</th>\n",
       "      <th>Cabin</th>\n",
       "      <th>Embarked</th>\n",
       "    </tr>\n",
       "  </thead>\n",
       "  <tbody>\n",
       "    <tr>\n",
       "      <th>0</th>\n",
       "      <td>1</td>\n",
       "      <td>0.0</td>\n",
       "      <td>3</td>\n",
       "      <td>Braund, Mr. Owen Harris</td>\n",
       "      <td>male</td>\n",
       "      <td>22.0</td>\n",
       "      <td>1</td>\n",
       "      <td>0</td>\n",
       "      <td>A/5 21171</td>\n",
       "      <td>7.2500</td>\n",
       "      <td>NaN</td>\n",
       "      <td>S</td>\n",
       "    </tr>\n",
       "    <tr>\n",
       "      <th>1</th>\n",
       "      <td>2</td>\n",
       "      <td>1.0</td>\n",
       "      <td>1</td>\n",
       "      <td>Cumings, Mrs. John Bradley (Florence Briggs Th...</td>\n",
       "      <td>female</td>\n",
       "      <td>38.0</td>\n",
       "      <td>1</td>\n",
       "      <td>0</td>\n",
       "      <td>PC 17599</td>\n",
       "      <td>71.2833</td>\n",
       "      <td>C85</td>\n",
       "      <td>C</td>\n",
       "    </tr>\n",
       "    <tr>\n",
       "      <th>2</th>\n",
       "      <td>3</td>\n",
       "      <td>1.0</td>\n",
       "      <td>3</td>\n",
       "      <td>Heikkinen, Miss. Laina</td>\n",
       "      <td>female</td>\n",
       "      <td>26.0</td>\n",
       "      <td>0</td>\n",
       "      <td>0</td>\n",
       "      <td>STON/O2. 3101282</td>\n",
       "      <td>7.9250</td>\n",
       "      <td>NaN</td>\n",
       "      <td>S</td>\n",
       "    </tr>\n",
       "    <tr>\n",
       "      <th>3</th>\n",
       "      <td>4</td>\n",
       "      <td>1.0</td>\n",
       "      <td>1</td>\n",
       "      <td>Futrelle, Mrs. Jacques Heath (Lily May Peel)</td>\n",
       "      <td>female</td>\n",
       "      <td>35.0</td>\n",
       "      <td>1</td>\n",
       "      <td>0</td>\n",
       "      <td>113803</td>\n",
       "      <td>53.1000</td>\n",
       "      <td>C123</td>\n",
       "      <td>S</td>\n",
       "    </tr>\n",
       "    <tr>\n",
       "      <th>4</th>\n",
       "      <td>5</td>\n",
       "      <td>0.0</td>\n",
       "      <td>3</td>\n",
       "      <td>Allen, Mr. William Henry</td>\n",
       "      <td>male</td>\n",
       "      <td>35.0</td>\n",
       "      <td>0</td>\n",
       "      <td>0</td>\n",
       "      <td>373450</td>\n",
       "      <td>8.0500</td>\n",
       "      <td>NaN</td>\n",
       "      <td>S</td>\n",
       "    </tr>\n",
       "  </tbody>\n",
       "</table>\n",
       "</div>"
      ],
      "text/plain": [
       "   PassengerId  Survived  Pclass  \\\n",
       "0            1       0.0       3   \n",
       "1            2       1.0       1   \n",
       "2            3       1.0       3   \n",
       "3            4       1.0       1   \n",
       "4            5       0.0       3   \n",
       "\n",
       "                                                Name     Sex   Age  SibSp  \\\n",
       "0                            Braund, Mr. Owen Harris    male  22.0      1   \n",
       "1  Cumings, Mrs. John Bradley (Florence Briggs Th...  female  38.0      1   \n",
       "2                             Heikkinen, Miss. Laina  female  26.0      0   \n",
       "3       Futrelle, Mrs. Jacques Heath (Lily May Peel)  female  35.0      1   \n",
       "4                           Allen, Mr. William Henry    male  35.0      0   \n",
       "\n",
       "   Parch            Ticket     Fare Cabin Embarked  \n",
       "0      0         A/5 21171   7.2500   NaN        S  \n",
       "1      0          PC 17599  71.2833   C85        C  \n",
       "2      0  STON/O2. 3101282   7.9250   NaN        S  \n",
       "3      0            113803  53.1000  C123        S  \n",
       "4      0            373450   8.0500   NaN        S  "
      ]
     },
     "execution_count": 908,
     "metadata": {},
     "output_type": "execute_result"
    }
   ],
   "source": [
    "titanic.head()"
   ]
  },
  {
   "cell_type": "code",
   "execution_count": 909,
   "id": "b25f0f63",
   "metadata": {
    "execution": {
     "iopub.execute_input": "2022-05-16T08:31:56.064928Z",
     "iopub.status.busy": "2022-05-16T08:31:56.064331Z",
     "iopub.status.idle": "2022-05-16T08:31:56.073739Z",
     "shell.execute_reply": "2022-05-16T08:31:56.072712Z"
    },
    "papermill": {
     "duration": 0.028218,
     "end_time": "2022-05-16T08:31:56.075512",
     "exception": false,
     "start_time": "2022-05-16T08:31:56.047294",
     "status": "completed"
    },
    "tags": []
   },
   "outputs": [
    {
     "data": {
      "text/plain": [
       "PassengerId       0\n",
       "Survived        418\n",
       "Pclass            0\n",
       "Name              0\n",
       "Sex               0\n",
       "Age             263\n",
       "SibSp             0\n",
       "Parch             0\n",
       "Ticket            0\n",
       "Fare              1\n",
       "Cabin          1014\n",
       "Embarked          2\n",
       "dtype: int64"
      ]
     },
     "execution_count": 909,
     "metadata": {},
     "output_type": "execute_result"
    }
   ],
   "source": [
    "titanic.isnull().sum()"
   ]
  },
  {
   "cell_type": "markdown",
   "id": "6e9d43d6",
   "metadata": {
    "papermill": {
     "duration": 0.01553,
     "end_time": "2022-05-16T08:31:56.106397",
     "exception": false,
     "start_time": "2022-05-16T08:31:56.090867",
     "status": "completed"
    },
    "tags": []
   },
   "source": [
    "## 数据预处理\n"
   ]
  },
  {
   "cell_type": "markdown",
   "id": "14e0a32b",
   "metadata": {
    "papermill": {
     "duration": 0.015363,
     "end_time": "2022-05-16T08:31:56.137503",
     "exception": false,
     "start_time": "2022-05-16T08:31:56.122140",
     "status": "completed"
    },
    "tags": []
   },
   "source": [
    "Embarked属性缺失较少，所以我选择直接使用最多的类来进行缺失值的填补，对于Cabin，将缺失值标志位U (Unknown)，并且仅取第一个字母作为有效值"
   ]
  },
  {
   "cell_type": "code",
   "execution_count": 910,
   "id": "5e3c8dac",
   "metadata": {
    "execution": {
     "iopub.execute_input": "2022-05-16T08:31:56.225013Z",
     "iopub.status.busy": "2022-05-16T08:31:56.224085Z",
     "iopub.status.idle": "2022-05-16T08:31:56.253755Z",
     "shell.execute_reply": "2022-05-16T08:31:56.253007Z"
    },
    "papermill": {
     "duration": 0.048779,
     "end_time": "2022-05-16T08:31:56.255750",
     "exception": false,
     "start_time": "2022-05-16T08:31:56.206971",
     "status": "completed"
    },
    "tags": []
   },
   "outputs": [],
   "source": [
    "titanic['Embarked'].fillna('S', inplace = True)\n",
    "titanic['Cabin'].fillna('U', inplace = True)\n",
    "titanic['Cabin'] = titanic['Cabin'].map(lambda x: x[0])"
   ]
  },
  {
   "cell_type": "markdown",
   "id": "e11eccd8",
   "metadata": {},
   "source": [
    "Fare缺失值比较容易填补，因为Fare与Pclass高度相关，所以使用同一Pclass的票价均值来填补缺失。"
   ]
  },
  {
   "cell_type": "code",
   "execution_count": 911,
   "id": "466c680d",
   "metadata": {},
   "outputs": [],
   "source": [
    "titanic['Fare'].fillna(titanic.groupby('Pclass')['Fare'].transform('median'), inplace=True)"
   ]
  },
  {
   "cell_type": "code",
   "execution_count": 912,
   "id": "1677c33b",
   "metadata": {},
   "outputs": [
    {
     "name": "stdout",
     "output_type": "stream",
     "text": [
      "PassengerId      0\n",
      "Survived       418\n",
      "Pclass           0\n",
      "Name             0\n",
      "Sex              0\n",
      "Age            263\n",
      "SibSp            0\n",
      "Parch            0\n",
      "Ticket           0\n",
      "Fare             0\n",
      "Cabin            0\n",
      "Embarked         0\n",
      "dtype: int64\n"
     ]
    }
   ],
   "source": [
    "print(titanic.isnull().sum())"
   ]
  },
  {
   "cell_type": "markdown",
   "id": "0564bf29",
   "metadata": {},
   "source": [
    "接下来需要做的事情就是分析各个非数字属性，并且将其转化为有效数值属性。首先需要处理的是Name属性，通过直接观察，我们发现Name中会带有职位或者性别信息，所以通过分割进行处理。"
   ]
  },
  {
   "cell_type": "code",
   "execution_count": 913,
   "id": "404233da",
   "metadata": {},
   "outputs": [
    {
     "data": {
      "text/plain": [
       "Mr              757\n",
       "Miss            260\n",
       "Mrs             197\n",
       "Master           61\n",
       "Rev               8\n",
       "Dr                8\n",
       "Col               4\n",
       "Mlle              2\n",
       "Major             2\n",
       "Ms                2\n",
       "Lady              1\n",
       "Sir               1\n",
       "Mme               1\n",
       "Don               1\n",
       "Capt              1\n",
       "the Countess      1\n",
       "Jonkheer          1\n",
       "Dona              1\n",
       "Name: Name, dtype: int64"
      ]
     },
     "execution_count": 913,
     "metadata": {},
     "output_type": "execute_result"
    }
   ],
   "source": [
    "titanic['Name'] = titanic['Name'].map(lambda x: x.split(',')[1].split('.')[0].strip())\n",
    "titanic['Name'].value_counts()"
   ]
  },
  {
   "cell_type": "code",
   "execution_count": 914,
   "id": "b4d25697",
   "metadata": {},
   "outputs": [
    {
     "data": {
      "text/plain": [
       "Mr         757\n",
       "Miss       262\n",
       "Mrs        200\n",
       "Master      62\n",
       "Officer     23\n",
       "Royalty      5\n",
       "Name: Title, dtype: int64"
      ]
     },
     "execution_count": 914,
     "metadata": {},
     "output_type": "execute_result"
    }
   ],
   "source": [
    "TitleDict = {}\n",
    "TitleDict['Mr'] = 'Mr'\n",
    "TitleDict['Mlle'] = 'Miss'\n",
    "TitleDict['Miss'] = 'Miss'\n",
    "TitleDict['Master'] = 'Master'\n",
    "TitleDict['Jonkheer'] = 'Master'\n",
    "TitleDict['Mme'] = 'Mrs'\n",
    "TitleDict['Ms'] = 'Mrs'\n",
    "TitleDict['Mrs'] = 'Mrs'\n",
    "TitleDict['Don'] = 'Royalty'\n",
    "TitleDict['Sir'] = 'Royalty'\n",
    "TitleDict['the Countess'] = 'Royalty'\n",
    "TitleDict['Dona'] = 'Royalty'\n",
    "TitleDict['Lady'] = 'Royalty'\n",
    "TitleDict['Capt'] = 'Officer'\n",
    "TitleDict['Col'] = 'Officer'\n",
    "TitleDict['Major'] = 'Officer'\n",
    "TitleDict['Dr'] = 'Officer'\n",
    "TitleDict['Rev'] = 'Officer'\n",
    "\n",
    "titanic['Title'] = titanic['Name'].map(lambda x: TitleDict[x])\n",
    "titanic.drop(['Name'], axis=1, inplace=True)\n",
    "titanic['Title'].value_counts()"
   ]
  },
  {
   "cell_type": "markdown",
   "id": "f340eb5d",
   "metadata": {},
   "source": [
    "接下来分析SibSp与Parch这一属性，这一属性反映的是家庭成员数量，可在分析中，具体的数量可能会对最终的结果造成不良影响，所以在这里我将SibSp与Parch替换为是否独身。"
   ]
  },
  {
   "cell_type": "code",
   "execution_count": 915,
   "id": "e657f128",
   "metadata": {},
   "outputs": [
    {
     "data": {
      "text/plain": [
       "1    790\n",
       "0    519\n",
       "Name: Alone, dtype: int64"
      ]
     },
     "execution_count": 915,
     "metadata": {},
     "output_type": "execute_result"
    }
   ],
   "source": [
    "titanic['Family'] = titanic['SibSp'] + titanic['Parch']\n",
    "\n",
    "titanic['Alone'] = 0\n",
    "titanic.loc[titanic['Family'] == 0, 'Alone'] = 1\n",
    "\n",
    "titanic.drop(['SibSp', 'Parch', 'Family'], axis=1, inplace=True)\n",
    "titanic['Alone'].value_counts()"
   ]
  },
  {
   "cell_type": "code",
   "execution_count": 916,
   "id": "ecf09291",
   "metadata": {},
   "outputs": [],
   "source": [
    "titanic.drop(['Ticket'], axis=1, inplace=True)"
   ]
  },
  {
   "cell_type": "code",
   "execution_count": 917,
   "id": "4b138711",
   "metadata": {},
   "outputs": [
    {
     "data": {
      "text/html": [
       "<div>\n",
       "<style scoped>\n",
       "    .dataframe tbody tr th:only-of-type {\n",
       "        vertical-align: middle;\n",
       "    }\n",
       "\n",
       "    .dataframe tbody tr th {\n",
       "        vertical-align: top;\n",
       "    }\n",
       "\n",
       "    .dataframe thead th {\n",
       "        text-align: right;\n",
       "    }\n",
       "</style>\n",
       "<table border=\"1\" class=\"dataframe\">\n",
       "  <thead>\n",
       "    <tr style=\"text-align: right;\">\n",
       "      <th></th>\n",
       "      <th>PassengerId</th>\n",
       "      <th>Survived</th>\n",
       "      <th>Pclass</th>\n",
       "      <th>Sex</th>\n",
       "      <th>Age</th>\n",
       "      <th>Fare</th>\n",
       "      <th>Cabin</th>\n",
       "      <th>Embarked</th>\n",
       "      <th>Title</th>\n",
       "      <th>Alone</th>\n",
       "    </tr>\n",
       "  </thead>\n",
       "  <tbody>\n",
       "    <tr>\n",
       "      <th>0</th>\n",
       "      <td>1</td>\n",
       "      <td>0.0</td>\n",
       "      <td>3</td>\n",
       "      <td>male</td>\n",
       "      <td>22.0</td>\n",
       "      <td>7.2500</td>\n",
       "      <td>U</td>\n",
       "      <td>S</td>\n",
       "      <td>Mr</td>\n",
       "      <td>0</td>\n",
       "    </tr>\n",
       "    <tr>\n",
       "      <th>1</th>\n",
       "      <td>2</td>\n",
       "      <td>1.0</td>\n",
       "      <td>1</td>\n",
       "      <td>female</td>\n",
       "      <td>38.0</td>\n",
       "      <td>71.2833</td>\n",
       "      <td>C</td>\n",
       "      <td>C</td>\n",
       "      <td>Mrs</td>\n",
       "      <td>0</td>\n",
       "    </tr>\n",
       "    <tr>\n",
       "      <th>2</th>\n",
       "      <td>3</td>\n",
       "      <td>1.0</td>\n",
       "      <td>3</td>\n",
       "      <td>female</td>\n",
       "      <td>26.0</td>\n",
       "      <td>7.9250</td>\n",
       "      <td>U</td>\n",
       "      <td>S</td>\n",
       "      <td>Miss</td>\n",
       "      <td>1</td>\n",
       "    </tr>\n",
       "    <tr>\n",
       "      <th>3</th>\n",
       "      <td>4</td>\n",
       "      <td>1.0</td>\n",
       "      <td>1</td>\n",
       "      <td>female</td>\n",
       "      <td>35.0</td>\n",
       "      <td>53.1000</td>\n",
       "      <td>C</td>\n",
       "      <td>S</td>\n",
       "      <td>Mrs</td>\n",
       "      <td>0</td>\n",
       "    </tr>\n",
       "    <tr>\n",
       "      <th>4</th>\n",
       "      <td>5</td>\n",
       "      <td>0.0</td>\n",
       "      <td>3</td>\n",
       "      <td>male</td>\n",
       "      <td>35.0</td>\n",
       "      <td>8.0500</td>\n",
       "      <td>U</td>\n",
       "      <td>S</td>\n",
       "      <td>Mr</td>\n",
       "      <td>1</td>\n",
       "    </tr>\n",
       "  </tbody>\n",
       "</table>\n",
       "</div>"
      ],
      "text/plain": [
       "   PassengerId  Survived  Pclass     Sex   Age     Fare Cabin Embarked Title  \\\n",
       "0            1       0.0       3    male  22.0   7.2500     U        S    Mr   \n",
       "1            2       1.0       1  female  38.0  71.2833     C        C   Mrs   \n",
       "2            3       1.0       3  female  26.0   7.9250     U        S  Miss   \n",
       "3            4       1.0       1  female  35.0  53.1000     C        S   Mrs   \n",
       "4            5       0.0       3    male  35.0   8.0500     U        S    Mr   \n",
       "\n",
       "   Alone  \n",
       "0      0  \n",
       "1      0  \n",
       "2      1  \n",
       "3      0  \n",
       "4      1  "
      ]
     },
     "execution_count": 917,
     "metadata": {},
     "output_type": "execute_result"
    }
   ],
   "source": [
    "titanic.head()"
   ]
  },
  {
   "cell_type": "code",
   "execution_count": 918,
   "id": "0ba19cd2",
   "metadata": {},
   "outputs": [
    {
     "data": {
      "text/plain": [
       "S    916\n",
       "C    270\n",
       "Q    123\n",
       "Name: Embarked, dtype: int64"
      ]
     },
     "execution_count": 918,
     "metadata": {},
     "output_type": "execute_result"
    }
   ],
   "source": [
    "titanic['Cabin'].value_counts()\n",
    "titanic['Embarked'].value_counts()"
   ]
  },
  {
   "cell_type": "code",
   "execution_count": 919,
   "id": "c72d1b3e",
   "metadata": {},
   "outputs": [],
   "source": [
    "# map categorical features to numerical values\n",
    "titanic['Cabin'] = titanic['Cabin'].map({'A' : 0, 'B' : 1, 'C' : 2, 'D' : 3, 'E' : 4, 'F' : 5, 'G' : 6, 'T' : 7, 'U' : 8})\n",
    "titanic['Sex'] = titanic['Sex'].map({'male' : 0, 'female' : 1})\n",
    "titanic['Embarked'] = titanic['Embarked'].map({'S' : 0, 'C' : 1, 'Q' : 2})\n",
    "titanic['Title'] = titanic['Title'].map({'Mr' : 0, 'Miss' : 1, 'Mrs' : 2, 'Master' : 3, 'Officer' : 4, 'Royalty' : 5})"
   ]
  },
  {
   "cell_type": "code",
   "execution_count": 920,
   "id": "430c5687",
   "metadata": {},
   "outputs": [
    {
     "name": "stdout",
     "output_type": "stream",
     "text": [
      "<class 'pandas.core.frame.DataFrame'>\n",
      "Int64Index: 1309 entries, 0 to 417\n",
      "Data columns (total 10 columns):\n",
      " #   Column       Non-Null Count  Dtype  \n",
      "---  ------       --------------  -----  \n",
      " 0   PassengerId  1309 non-null   int64  \n",
      " 1   Survived     891 non-null    float64\n",
      " 2   Pclass       1309 non-null   int64  \n",
      " 3   Sex          1309 non-null   int64  \n",
      " 4   Age          1046 non-null   float64\n",
      " 5   Fare         1309 non-null   float64\n",
      " 6   Cabin        1309 non-null   int64  \n",
      " 7   Embarked     1309 non-null   int64  \n",
      " 8   Title        1309 non-null   int64  \n",
      " 9   Alone        1309 non-null   int64  \n",
      "dtypes: float64(3), int64(7)\n",
      "memory usage: 112.5 KB\n",
      "None\n",
      "   PassengerId  Survived  Pclass  Sex   Age     Fare  Cabin  Embarked  Title  \\\n",
      "0            1       0.0       3    0  22.0   7.2500      8         0      0   \n",
      "1            2       1.0       1    1  38.0  71.2833      2         1      2   \n",
      "2            3       1.0       3    1  26.0   7.9250      8         0      1   \n",
      "3            4       1.0       1    1  35.0  53.1000      2         0      2   \n",
      "4            5       0.0       3    0  35.0   8.0500      8         0      0   \n",
      "\n",
      "   Alone  \n",
      "0      0  \n",
      "1      0  \n",
      "2      1  \n",
      "3      0  \n",
      "4      1  \n"
     ]
    }
   ],
   "source": [
    "print(titanic.info())\n",
    "print(titanic.head())"
   ]
  },
  {
   "cell_type": "markdown",
   "id": "ed1c059d",
   "metadata": {},
   "source": [
    "至此，除Age之外的属性都已处理完毕，接下来需要对Age进行处理，其中我们需要分析Age的分布情况，并且将其转化为数值属性。"
   ]
  },
  {
   "cell_type": "code",
   "execution_count": 921,
   "id": "18b84b2d",
   "metadata": {},
   "outputs": [
    {
     "data": {
      "text/plain": [
       "(10.5, -0.5)"
      ]
     },
     "execution_count": 921,
     "metadata": {},
     "output_type": "execute_result"
    },
    {
     "data": {
      "image/png": "[encoded data removed]",
      "text/plain": [
       "<Figure size 864x864 with 2 Axes>"
      ]
     },
     "metadata": {},
     "output_type": "display_data"
    }
   ],
   "source": [
    "import seaborn as sns\n",
    "correlation_matrix = np.absolute(titanic.corr().round(2))\n",
    "sns.set(rc={'figure.figsize':(12, 12)})\n",
    "ax = sns.heatmap(correlation_matrix, annot=True, cmap='RdYlGn')\n",
    "bottom, top = ax.get_ylim()\n",
    "ax.set_ylim(bottom + 0.5, top - 0.5)"
   ]
  },
  {
   "cell_type": "code",
   "execution_count": 922,
   "id": "926666f7",
   "metadata": {},
   "outputs": [],
   "source": [
    "variables = ['Pclass', 'Sex', 'Age', 'Fare', 'Cabin', 'Embarked', 'Title', 'Alone']\n",
    "trainAge = titanic[variables]"
   ]
  },
  {
   "cell_type": "markdown",
   "id": "f45a3ca7",
   "metadata": {},
   "source": [
    "最后我们再来填补缺失的 Age属性，使用随机森林进行填补。在此之前需要大致的决定哪些属性与Age最密切，使用heatmap来直观的查看相关系数。"
   ]
  },
  {
   "cell_type": "code",
   "execution_count": 923,
   "id": "2c41f8d8",
   "metadata": {
    "execution": {
     "iopub.execute_input": "2022-05-16T08:31:56.291470Z",
     "iopub.status.busy": "2022-05-16T08:31:56.291023Z",
     "iopub.status.idle": "2022-05-16T08:31:58.140462Z",
     "shell.execute_reply": "2022-05-16T08:31:58.138789Z"
    },
    "papermill": {
     "duration": 1.870666,
     "end_time": "2022-05-16T08:31:58.142770",
     "exception": false,
     "start_time": "2022-05-16T08:31:56.272104",
     "status": "completed"
    },
    "tags": []
   },
   "outputs": [
    {
     "data": {
      "text/plain": [
       "RandomForestRegressor(n_estimators=500, n_jobs=-1)"
      ]
     },
     "execution_count": 923,
     "metadata": {},
     "output_type": "execute_result"
    }
   ],
   "source": [
    "#拆分实验集和预测集\n",
    "AgeKnown = trainAge[trainAge['Age'].notnull()]\n",
    "AgeUnKnown = trainAge[trainAge['Age'].isnull()]\n",
    "\n",
    "#生成实验数据的特征和标签\n",
    "AgeKnown_X = AgeKnown.drop(['Age'],axis=1)\n",
    "AgeKnown_y = AgeKnown['Age']\n",
    "#生成预测数据的特征\n",
    "AgeUnKnown_X = AgeUnKnown.drop(['Age'],axis=1)\n",
    "\n",
    "#利用随机森林构建模型\n",
    "from sklearn.ensemble import RandomForestRegressor\n",
    "rfr=RandomForestRegressor(random_state=None,n_estimators=500,n_jobs=-1)\n",
    "rfr.fit(AgeKnown_X, AgeKnown_y)"
   ]
  },
  {
   "cell_type": "code",
   "execution_count": 924,
   "id": "d3cfdb38",
   "metadata": {
    "execution": {
     "iopub.execute_input": "2022-05-16T08:31:58.179254Z",
     "iopub.status.busy": "2022-05-16T08:31:58.178959Z",
     "iopub.status.idle": "2022-05-16T08:31:58.338406Z",
     "shell.execute_reply": "2022-05-16T08:31:58.336829Z"
    },
    "papermill": {
     "duration": 0.182102,
     "end_time": "2022-05-16T08:31:58.342682",
     "exception": false,
     "start_time": "2022-05-16T08:31:58.160580",
     "status": "completed"
    },
    "tags": []
   },
   "outputs": [
    {
     "name": "stdout",
     "output_type": "stream",
     "text": [
      "0.7400822492489685\n",
      "<class 'pandas.core.frame.DataFrame'>\n",
      "Int64Index: 1309 entries, 0 to 417\n",
      "Data columns (total 10 columns):\n",
      " #   Column       Non-Null Count  Dtype  \n",
      "---  ------       --------------  -----  \n",
      " 0   PassengerId  1309 non-null   int64  \n",
      " 1   Survived     891 non-null    float64\n",
      " 2   Pclass       1309 non-null   int64  \n",
      " 3   Sex          1309 non-null   int64  \n",
      " 4   Age          1309 non-null   float64\n",
      " 5   Fare         1309 non-null   float64\n",
      " 6   Cabin        1309 non-null   int64  \n",
      " 7   Embarked     1309 non-null   int64  \n",
      " 8   Title        1309 non-null   int64  \n",
      " 9   Alone        1309 non-null   int64  \n",
      "dtypes: float64(3), int64(7)\n",
      "memory usage: 112.5 KB\n"
     ]
    }
   ],
   "source": [
    "#模型得分\n",
    "print(rfr.score(AgeKnown_X, AgeKnown_y))\n",
    "\n",
    "#预测年龄\n",
    "AgeUnKnown_y = rfr.predict(AgeUnKnown_X)\n",
    "#填充预测数据\n",
    "titanic.loc[titanic['Age'].isnull(), ['Age']] = AgeUnKnown_y\n",
    "titanic.info()  #此时已无缺失值"
   ]
  },
  {
   "cell_type": "code",
   "execution_count": 925,
   "id": "58f0d341",
   "metadata": {
    "execution": {
     "iopub.execute_input": "2022-05-16T08:31:58.396680Z",
     "iopub.status.busy": "2022-05-16T08:31:58.396405Z",
     "iopub.status.idle": "2022-05-16T08:31:58.405412Z",
     "shell.execute_reply": "2022-05-16T08:31:58.404678Z"
    },
    "papermill": {
     "duration": 0.038409,
     "end_time": "2022-05-16T08:31:58.406813",
     "exception": false,
     "start_time": "2022-05-16T08:31:58.368404",
     "status": "completed"
    },
    "tags": []
   },
   "outputs": [
    {
     "data": {
      "text/plain": [
       "PassengerId      0\n",
       "Survived       418\n",
       "Pclass           0\n",
       "Sex              0\n",
       "Age              0\n",
       "Fare             0\n",
       "Cabin            0\n",
       "Embarked         0\n",
       "Title            0\n",
       "Alone            0\n",
       "dtype: int64"
      ]
     },
     "execution_count": 925,
     "metadata": {},
     "output_type": "execute_result"
    }
   ],
   "source": [
    "titanic.isnull().sum()"
   ]
  },
  {
   "cell_type": "markdown",
   "id": "a86ca34f",
   "metadata": {},
   "source": [
    "由于决策树算法限制，我们还需要把所有数据归组。"
   ]
  },
  {
   "cell_type": "code",
   "execution_count": 926,
   "id": "40b359f9",
   "metadata": {},
   "outputs": [],
   "source": [
    "titanic.loc[titanic['Fare'] <= 7.91, 'Fare'] = 0\n",
    "titanic.loc[(titanic['Fare'] > 7.91) & (titanic['Fare'] <= 14.454), 'Fare'] = 1\n",
    "titanic.loc[(titanic['Fare'] > 14.454) & (titanic['Fare'] <= 31), 'Fare'] = 2\n",
    "titanic.loc[titanic['Fare'] > 31, 'Fare'] = 3\n",
    "\n",
    "titanic.loc[titanic['Age'] <= 16, 'Age'] = 0\n",
    "titanic.loc[(titanic['Age'] > 16) & (titanic['Age'] <= 32), 'Age'] = 1\n",
    "titanic.loc[(titanic['Age'] > 32) & (titanic['Age'] <= 48), 'Age'] = 2\n",
    "titanic.loc[(titanic['Age'] > 48) & (titanic['Age'] <= 64), 'Age'] = 3\n",
    "titanic.loc[titanic['Age'] > 64, 'Age'] = 4\n",
    "\n",
    "titanic['Age'] = titanic['Age'].astype(int)\n",
    "titanic['Fare'] = titanic['Fare'].astype(int)"
   ]
  },
  {
   "cell_type": "code",
   "execution_count": 927,
   "id": "22cc6fae",
   "metadata": {
    "execution": {
     "iopub.execute_input": "2022-05-16T08:31:58.444006Z",
     "iopub.status.busy": "2022-05-16T08:31:58.443736Z",
     "iopub.status.idle": "2022-05-16T08:31:58.455607Z",
     "shell.execute_reply": "2022-05-16T08:31:58.454502Z"
    },
    "papermill": {
     "duration": 0.03364,
     "end_time": "2022-05-16T08:31:58.457912",
     "exception": false,
     "start_time": "2022-05-16T08:31:58.424272",
     "status": "completed"
    },
    "tags": []
   },
   "outputs": [
    {
     "data": {
      "text/html": [
       "<div>\n",
       "<style scoped>\n",
       "    .dataframe tbody tr th:only-of-type {\n",
       "        vertical-align: middle;\n",
       "    }\n",
       "\n",
       "    .dataframe tbody tr th {\n",
       "        vertical-align: top;\n",
       "    }\n",
       "\n",
       "    .dataframe thead th {\n",
       "        text-align: right;\n",
       "    }\n",
       "</style>\n",
       "<table border=\"1\" class=\"dataframe\">\n",
       "  <thead>\n",
       "    <tr style=\"text-align: right;\">\n",
       "      <th></th>\n",
       "      <th>PassengerId</th>\n",
       "      <th>Survived</th>\n",
       "      <th>Pclass</th>\n",
       "      <th>Sex</th>\n",
       "      <th>Age</th>\n",
       "      <th>Fare</th>\n",
       "      <th>Cabin</th>\n",
       "      <th>Embarked</th>\n",
       "      <th>Title</th>\n",
       "      <th>Alone</th>\n",
       "    </tr>\n",
       "  </thead>\n",
       "  <tbody>\n",
       "    <tr>\n",
       "      <th>0</th>\n",
       "      <td>1</td>\n",
       "      <td>0.0</td>\n",
       "      <td>3</td>\n",
       "      <td>0</td>\n",
       "      <td>1</td>\n",
       "      <td>0</td>\n",
       "      <td>8</td>\n",
       "      <td>0</td>\n",
       "      <td>0</td>\n",
       "      <td>0</td>\n",
       "    </tr>\n",
       "    <tr>\n",
       "      <th>1</th>\n",
       "      <td>2</td>\n",
       "      <td>1.0</td>\n",
       "      <td>1</td>\n",
       "      <td>1</td>\n",
       "      <td>2</td>\n",
       "      <td>3</td>\n",
       "      <td>2</td>\n",
       "      <td>1</td>\n",
       "      <td>2</td>\n",
       "      <td>0</td>\n",
       "    </tr>\n",
       "    <tr>\n",
       "      <th>2</th>\n",
       "      <td>3</td>\n",
       "      <td>1.0</td>\n",
       "      <td>3</td>\n",
       "      <td>1</td>\n",
       "      <td>1</td>\n",
       "      <td>1</td>\n",
       "      <td>8</td>\n",
       "      <td>0</td>\n",
       "      <td>1</td>\n",
       "      <td>1</td>\n",
       "    </tr>\n",
       "    <tr>\n",
       "      <th>3</th>\n",
       "      <td>4</td>\n",
       "      <td>1.0</td>\n",
       "      <td>1</td>\n",
       "      <td>1</td>\n",
       "      <td>2</td>\n",
       "      <td>3</td>\n",
       "      <td>2</td>\n",
       "      <td>0</td>\n",
       "      <td>2</td>\n",
       "      <td>0</td>\n",
       "    </tr>\n",
       "    <tr>\n",
       "      <th>4</th>\n",
       "      <td>5</td>\n",
       "      <td>0.0</td>\n",
       "      <td>3</td>\n",
       "      <td>0</td>\n",
       "      <td>2</td>\n",
       "      <td>1</td>\n",
       "      <td>8</td>\n",
       "      <td>0</td>\n",
       "      <td>0</td>\n",
       "      <td>1</td>\n",
       "    </tr>\n",
       "  </tbody>\n",
       "</table>\n",
       "</div>"
      ],
      "text/plain": [
       "   PassengerId  Survived  Pclass  Sex  Age  Fare  Cabin  Embarked  Title  \\\n",
       "0            1       0.0       3    0    1     0      8         0      0   \n",
       "1            2       1.0       1    1    2     3      2         1      2   \n",
       "2            3       1.0       3    1    1     1      8         0      1   \n",
       "3            4       1.0       1    1    2     3      2         0      2   \n",
       "4            5       0.0       3    0    2     1      8         0      0   \n",
       "\n",
       "   Alone  \n",
       "0      0  \n",
       "1      0  \n",
       "2      1  \n",
       "3      0  \n",
       "4      1  "
      ]
     },
     "execution_count": 927,
     "metadata": {},
     "output_type": "execute_result"
    }
   ],
   "source": [
    "titanic.head()"
   ]
  },
  {
   "cell_type": "code",
   "execution_count": 928,
   "id": "fa1039a8",
   "metadata": {},
   "outputs": [],
   "source": [
    "# one-hot编码\n",
    "# titanic = pd.get_dummies(titanic)\n",
    "# Ageonehot = pd.get_dummies(titanic['Age'], prefix = 'Age')\n",
    "# Fareonehot = pd.get_dummies(titanic['Fare'], prefix = 'Fare')\n",
    "\n",
    "# titanic = pd.concat([titanic, Ageonehot, Fareonehot], axis=1)\n",
    "# titanic.drop(['Age', 'Fare'], axis=1, inplace=True)\n",
    "# titanic.head()"
   ]
  },
  {
   "cell_type": "code",
   "execution_count": 929,
   "id": "7f654a48",
   "metadata": {},
   "outputs": [],
   "source": [
    "traindata = titanic[titanic['Survived'].notnull()]\n",
    "testdata = titanic[titanic['Survived'].isnull()]"
   ]
  },
  {
   "cell_type": "code",
   "execution_count": 930,
   "id": "33362420",
   "metadata": {},
   "outputs": [
    {
     "name": "stderr",
     "output_type": "stream",
     "text": [
      "C:\\Users\\chris\\AppData\\Local\\Temp\\ipykernel_12072\\948573567.py:2: SettingWithCopyWarning: \n",
      "A value is trying to be set on a copy of a slice from a DataFrame.\n",
      "Try using .loc[row_indexer,col_indexer] = value instead\n",
      "\n",
      "See the caveats in the documentation: https://pandas.pydata.org/pandas-docs/stable/user_guide/indexing.html#returning-a-view-versus-a-copy\n",
      "  traindata['Survived'] = traindata['Survived'].astype(int)\n"
     ]
    },
    {
     "data": {
      "text/html": [
       "<div>\n",
       "<style scoped>\n",
       "    .dataframe tbody tr th:only-of-type {\n",
       "        vertical-align: middle;\n",
       "    }\n",
       "\n",
       "    .dataframe tbody tr th {\n",
       "        vertical-align: top;\n",
       "    }\n",
       "\n",
       "    .dataframe thead th {\n",
       "        text-align: right;\n",
       "    }\n",
       "</style>\n",
       "<table border=\"1\" class=\"dataframe\">\n",
       "  <thead>\n",
       "    <tr style=\"text-align: right;\">\n",
       "      <th></th>\n",
       "      <th>PassengerId</th>\n",
       "      <th>Survived</th>\n",
       "      <th>Pclass</th>\n",
       "      <th>Sex</th>\n",
       "      <th>Age</th>\n",
       "      <th>Fare</th>\n",
       "      <th>Cabin</th>\n",
       "      <th>Embarked</th>\n",
       "      <th>Title</th>\n",
       "      <th>Alone</th>\n",
       "    </tr>\n",
       "  </thead>\n",
       "  <tbody>\n",
       "    <tr>\n",
       "      <th>0</th>\n",
       "      <td>1</td>\n",
       "      <td>0</td>\n",
       "      <td>3</td>\n",
       "      <td>0</td>\n",
       "      <td>1</td>\n",
       "      <td>0</td>\n",
       "      <td>8</td>\n",
       "      <td>0</td>\n",
       "      <td>0</td>\n",
       "      <td>0</td>\n",
       "    </tr>\n",
       "    <tr>\n",
       "      <th>1</th>\n",
       "      <td>2</td>\n",
       "      <td>1</td>\n",
       "      <td>1</td>\n",
       "      <td>1</td>\n",
       "      <td>2</td>\n",
       "      <td>3</td>\n",
       "      <td>2</td>\n",
       "      <td>1</td>\n",
       "      <td>2</td>\n",
       "      <td>0</td>\n",
       "    </tr>\n",
       "    <tr>\n",
       "      <th>2</th>\n",
       "      <td>3</td>\n",
       "      <td>1</td>\n",
       "      <td>3</td>\n",
       "      <td>1</td>\n",
       "      <td>1</td>\n",
       "      <td>1</td>\n",
       "      <td>8</td>\n",
       "      <td>0</td>\n",
       "      <td>1</td>\n",
       "      <td>1</td>\n",
       "    </tr>\n",
       "    <tr>\n",
       "      <th>3</th>\n",
       "      <td>4</td>\n",
       "      <td>1</td>\n",
       "      <td>1</td>\n",
       "      <td>1</td>\n",
       "      <td>2</td>\n",
       "      <td>3</td>\n",
       "      <td>2</td>\n",
       "      <td>0</td>\n",
       "      <td>2</td>\n",
       "      <td>0</td>\n",
       "    </tr>\n",
       "    <tr>\n",
       "      <th>4</th>\n",
       "      <td>5</td>\n",
       "      <td>0</td>\n",
       "      <td>3</td>\n",
       "      <td>0</td>\n",
       "      <td>2</td>\n",
       "      <td>1</td>\n",
       "      <td>8</td>\n",
       "      <td>0</td>\n",
       "      <td>0</td>\n",
       "      <td>1</td>\n",
       "    </tr>\n",
       "    <tr>\n",
       "      <th>...</th>\n",
       "      <td>...</td>\n",
       "      <td>...</td>\n",
       "      <td>...</td>\n",
       "      <td>...</td>\n",
       "      <td>...</td>\n",
       "      <td>...</td>\n",
       "      <td>...</td>\n",
       "      <td>...</td>\n",
       "      <td>...</td>\n",
       "      <td>...</td>\n",
       "    </tr>\n",
       "    <tr>\n",
       "      <th>886</th>\n",
       "      <td>887</td>\n",
       "      <td>0</td>\n",
       "      <td>2</td>\n",
       "      <td>0</td>\n",
       "      <td>1</td>\n",
       "      <td>1</td>\n",
       "      <td>8</td>\n",
       "      <td>0</td>\n",
       "      <td>4</td>\n",
       "      <td>1</td>\n",
       "    </tr>\n",
       "    <tr>\n",
       "      <th>887</th>\n",
       "      <td>888</td>\n",
       "      <td>1</td>\n",
       "      <td>1</td>\n",
       "      <td>1</td>\n",
       "      <td>1</td>\n",
       "      <td>2</td>\n",
       "      <td>1</td>\n",
       "      <td>0</td>\n",
       "      <td>1</td>\n",
       "      <td>1</td>\n",
       "    </tr>\n",
       "    <tr>\n",
       "      <th>888</th>\n",
       "      <td>889</td>\n",
       "      <td>0</td>\n",
       "      <td>3</td>\n",
       "      <td>1</td>\n",
       "      <td>0</td>\n",
       "      <td>2</td>\n",
       "      <td>8</td>\n",
       "      <td>0</td>\n",
       "      <td>1</td>\n",
       "      <td>0</td>\n",
       "    </tr>\n",
       "    <tr>\n",
       "      <th>889</th>\n",
       "      <td>890</td>\n",
       "      <td>1</td>\n",
       "      <td>1</td>\n",
       "      <td>0</td>\n",
       "      <td>1</td>\n",
       "      <td>2</td>\n",
       "      <td>2</td>\n",
       "      <td>1</td>\n",
       "      <td>0</td>\n",
       "      <td>1</td>\n",
       "    </tr>\n",
       "    <tr>\n",
       "      <th>890</th>\n",
       "      <td>891</td>\n",
       "      <td>0</td>\n",
       "      <td>3</td>\n",
       "      <td>0</td>\n",
       "      <td>1</td>\n",
       "      <td>0</td>\n",
       "      <td>8</td>\n",
       "      <td>2</td>\n",
       "      <td>0</td>\n",
       "      <td>1</td>\n",
       "    </tr>\n",
       "  </tbody>\n",
       "</table>\n",
       "<p>891 rows × 10 columns</p>\n",
       "</div>"
      ],
      "text/plain": [
       "     PassengerId  Survived  Pclass  Sex  Age  Fare  Cabin  Embarked  Title  \\\n",
       "0              1         0       3    0    1     0      8         0      0   \n",
       "1              2         1       1    1    2     3      2         1      2   \n",
       "2              3         1       3    1    1     1      8         0      1   \n",
       "3              4         1       1    1    2     3      2         0      2   \n",
       "4              5         0       3    0    2     1      8         0      0   \n",
       "..           ...       ...     ...  ...  ...   ...    ...       ...    ...   \n",
       "886          887         0       2    0    1     1      8         0      4   \n",
       "887          888         1       1    1    1     2      1         0      1   \n",
       "888          889         0       3    1    0     2      8         0      1   \n",
       "889          890         1       1    0    1     2      2         1      0   \n",
       "890          891         0       3    0    1     0      8         2      0   \n",
       "\n",
       "     Alone  \n",
       "0        0  \n",
       "1        0  \n",
       "2        1  \n",
       "3        0  \n",
       "4        1  \n",
       "..     ...  \n",
       "886      1  \n",
       "887      1  \n",
       "888      0  \n",
       "889      1  \n",
       "890      1  \n",
       "\n",
       "[891 rows x 10 columns]"
      ]
     },
     "execution_count": 930,
     "metadata": {},
     "output_type": "execute_result"
    }
   ],
   "source": [
    "# 将Survived类转为int类型\n",
    "traindata['Survived'] = traindata['Survived'].astype(int)\n",
    "traindata"
   ]
  },
  {
   "cell_type": "code",
   "execution_count": 931,
   "id": "c6783678",
   "metadata": {},
   "outputs": [
    {
     "data": {
      "text/html": [
       "<div>\n",
       "<style scoped>\n",
       "    .dataframe tbody tr th:only-of-type {\n",
       "        vertical-align: middle;\n",
       "    }\n",
       "\n",
       "    .dataframe tbody tr th {\n",
       "        vertical-align: top;\n",
       "    }\n",
       "\n",
       "    .dataframe thead th {\n",
       "        text-align: right;\n",
       "    }\n",
       "</style>\n",
       "<table border=\"1\" class=\"dataframe\">\n",
       "  <thead>\n",
       "    <tr style=\"text-align: right;\">\n",
       "      <th></th>\n",
       "      <th>PassengerId</th>\n",
       "      <th>Survived</th>\n",
       "      <th>Pclass</th>\n",
       "      <th>Sex</th>\n",
       "      <th>Age</th>\n",
       "      <th>Fare</th>\n",
       "      <th>Cabin</th>\n",
       "      <th>Embarked</th>\n",
       "      <th>Title</th>\n",
       "      <th>Alone</th>\n",
       "    </tr>\n",
       "  </thead>\n",
       "  <tbody>\n",
       "    <tr>\n",
       "      <th>0</th>\n",
       "      <td>892</td>\n",
       "      <td>NaN</td>\n",
       "      <td>3</td>\n",
       "      <td>0</td>\n",
       "      <td>2</td>\n",
       "      <td>0</td>\n",
       "      <td>8</td>\n",
       "      <td>2</td>\n",
       "      <td>0</td>\n",
       "      <td>1</td>\n",
       "    </tr>\n",
       "    <tr>\n",
       "      <th>1</th>\n",
       "      <td>893</td>\n",
       "      <td>NaN</td>\n",
       "      <td>3</td>\n",
       "      <td>1</td>\n",
       "      <td>2</td>\n",
       "      <td>0</td>\n",
       "      <td>8</td>\n",
       "      <td>0</td>\n",
       "      <td>2</td>\n",
       "      <td>0</td>\n",
       "    </tr>\n",
       "    <tr>\n",
       "      <th>2</th>\n",
       "      <td>894</td>\n",
       "      <td>NaN</td>\n",
       "      <td>2</td>\n",
       "      <td>0</td>\n",
       "      <td>3</td>\n",
       "      <td>1</td>\n",
       "      <td>8</td>\n",
       "      <td>2</td>\n",
       "      <td>0</td>\n",
       "      <td>1</td>\n",
       "    </tr>\n",
       "    <tr>\n",
       "      <th>3</th>\n",
       "      <td>895</td>\n",
       "      <td>NaN</td>\n",
       "      <td>3</td>\n",
       "      <td>0</td>\n",
       "      <td>1</td>\n",
       "      <td>1</td>\n",
       "      <td>8</td>\n",
       "      <td>0</td>\n",
       "      <td>0</td>\n",
       "      <td>1</td>\n",
       "    </tr>\n",
       "    <tr>\n",
       "      <th>4</th>\n",
       "      <td>896</td>\n",
       "      <td>NaN</td>\n",
       "      <td>3</td>\n",
       "      <td>1</td>\n",
       "      <td>1</td>\n",
       "      <td>1</td>\n",
       "      <td>8</td>\n",
       "      <td>0</td>\n",
       "      <td>2</td>\n",
       "      <td>0</td>\n",
       "    </tr>\n",
       "    <tr>\n",
       "      <th>...</th>\n",
       "      <td>...</td>\n",
       "      <td>...</td>\n",
       "      <td>...</td>\n",
       "      <td>...</td>\n",
       "      <td>...</td>\n",
       "      <td>...</td>\n",
       "      <td>...</td>\n",
       "      <td>...</td>\n",
       "      <td>...</td>\n",
       "      <td>...</td>\n",
       "    </tr>\n",
       "    <tr>\n",
       "      <th>413</th>\n",
       "      <td>1305</td>\n",
       "      <td>NaN</td>\n",
       "      <td>3</td>\n",
       "      <td>0</td>\n",
       "      <td>1</td>\n",
       "      <td>1</td>\n",
       "      <td>8</td>\n",
       "      <td>0</td>\n",
       "      <td>0</td>\n",
       "      <td>1</td>\n",
       "    </tr>\n",
       "    <tr>\n",
       "      <th>414</th>\n",
       "      <td>1306</td>\n",
       "      <td>NaN</td>\n",
       "      <td>1</td>\n",
       "      <td>1</td>\n",
       "      <td>2</td>\n",
       "      <td>3</td>\n",
       "      <td>2</td>\n",
       "      <td>1</td>\n",
       "      <td>5</td>\n",
       "      <td>1</td>\n",
       "    </tr>\n",
       "    <tr>\n",
       "      <th>415</th>\n",
       "      <td>1307</td>\n",
       "      <td>NaN</td>\n",
       "      <td>3</td>\n",
       "      <td>0</td>\n",
       "      <td>2</td>\n",
       "      <td>0</td>\n",
       "      <td>8</td>\n",
       "      <td>0</td>\n",
       "      <td>0</td>\n",
       "      <td>1</td>\n",
       "    </tr>\n",
       "    <tr>\n",
       "      <th>416</th>\n",
       "      <td>1308</td>\n",
       "      <td>NaN</td>\n",
       "      <td>3</td>\n",
       "      <td>0</td>\n",
       "      <td>1</td>\n",
       "      <td>1</td>\n",
       "      <td>8</td>\n",
       "      <td>0</td>\n",
       "      <td>0</td>\n",
       "      <td>1</td>\n",
       "    </tr>\n",
       "    <tr>\n",
       "      <th>417</th>\n",
       "      <td>1309</td>\n",
       "      <td>NaN</td>\n",
       "      <td>3</td>\n",
       "      <td>0</td>\n",
       "      <td>0</td>\n",
       "      <td>2</td>\n",
       "      <td>8</td>\n",
       "      <td>1</td>\n",
       "      <td>3</td>\n",
       "      <td>0</td>\n",
       "    </tr>\n",
       "  </tbody>\n",
       "</table>\n",
       "<p>418 rows × 10 columns</p>\n",
       "</div>"
      ],
      "text/plain": [
       "     PassengerId  Survived  Pclass  Sex  Age  Fare  Cabin  Embarked  Title  \\\n",
       "0            892       NaN       3    0    2     0      8         2      0   \n",
       "1            893       NaN       3    1    2     0      8         0      2   \n",
       "2            894       NaN       2    0    3     1      8         2      0   \n",
       "3            895       NaN       3    0    1     1      8         0      0   \n",
       "4            896       NaN       3    1    1     1      8         0      2   \n",
       "..           ...       ...     ...  ...  ...   ...    ...       ...    ...   \n",
       "413         1305       NaN       3    0    1     1      8         0      0   \n",
       "414         1306       NaN       1    1    2     3      2         1      5   \n",
       "415         1307       NaN       3    0    2     0      8         0      0   \n",
       "416         1308       NaN       3    0    1     1      8         0      0   \n",
       "417         1309       NaN       3    0    0     2      8         1      3   \n",
       "\n",
       "     Alone  \n",
       "0        1  \n",
       "1        0  \n",
       "2        1  \n",
       "3        1  \n",
       "4        0  \n",
       "..     ...  \n",
       "413      1  \n",
       "414      1  \n",
       "415      1  \n",
       "416      1  \n",
       "417      0  \n",
       "\n",
       "[418 rows x 10 columns]"
      ]
     },
     "execution_count": 931,
     "metadata": {},
     "output_type": "execute_result"
    }
   ],
   "source": [
    "testdata"
   ]
  },
  {
   "cell_type": "markdown",
   "id": "7f8d6d98",
   "metadata": {},
   "source": [
    "使用随机森林进行预测"
   ]
  },
  {
   "cell_type": "code",
   "execution_count": 932,
   "id": "c5b60679",
   "metadata": {
    "execution": {
     "iopub.execute_input": "2022-05-16T08:31:58.590147Z",
     "iopub.status.busy": "2022-05-16T08:31:58.589893Z",
     "iopub.status.idle": "2022-05-16T08:31:58.759173Z",
     "shell.execute_reply": "2022-05-16T08:31:58.757894Z"
    },
    "papermill": {
     "duration": 0.190886,
     "end_time": "2022-05-16T08:31:58.761148",
     "exception": false,
     "start_time": "2022-05-16T08:31:58.570262",
     "status": "completed"
    },
    "tags": []
   },
   "outputs": [
    {
     "name": "stdout",
     "output_type": "stream",
     "text": [
      "Your submission was successfully saved!\n"
     ]
    }
   ],
   "source": [
    "from sklearn.ensemble import RandomForestClassifier\n",
    "\n",
    "y = traindata['Survived']\n",
    "\n",
    "X = traindata.drop(['Survived', 'PassengerId'], axis=1)\n",
    "X_test = testdata.drop(['Survived', 'PassengerId'], axis=1)\n",
    "\n",
    "model = RandomForestClassifier(n_estimators=100, max_depth=5, random_state=1)\n",
    "model.fit(X, y)\n",
    "predictions = model.predict(X_test)\n",
    "\n",
    "output = pd.DataFrame({'PassengerId': testdata.PassengerId, 'Survived': predictions})\n",
    "output.to_csv('submission.csv', index=False)\n",
    "print(\"Your submission was successfully saved!\")"
   ]
  },
  {
   "cell_type": "markdown",
   "id": "13f3f525",
   "metadata": {},
   "source": [
    "使用XGBoost进行预测"
   ]
  },
  {
   "cell_type": "code",
   "execution_count": 933,
   "id": "00e6413c",
   "metadata": {},
   "outputs": [],
   "source": [
    "# from xgboost import XGBClassifier\n",
    "# y = traindata['Survived']\n",
    "# X = traindata.drop(['Survived', 'PassengerId'], axis=1)\n",
    "# X_test = testdata.drop(['Survived', 'PassengerId'], axis=1)\n",
    "\n",
    "# model = XGBClassifier(\n",
    "#     learning_rate=0.02,\n",
    "#     n_estimators=10, \n",
    "#     max_depth=5, \n",
    "#     min_child_weight=1,\n",
    "#     scale_pos_weight=1,\n",
    "#     random_state=1\n",
    "#     )\n",
    "\n",
    "# model.fit(X, y)\n",
    "# predictions = model.predict(X_test)\n",
    "\n",
    "# output = pd.DataFrame({'PassengerId': testdata.PassengerId, 'Survived': predictions})\n",
    "# output.to_csv('submission.csv', index=False)\n",
    "# print(\"Your submission was successfully saved!\")"
   ]
  },
  {
   "cell_type": "markdown",
   "id": "06f8e02f",
   "metadata": {},
   "source": [
    "评估正确率"
   ]
  },
  {
   "cell_type": "code",
   "execution_count": 934,
   "id": "6d1aea83",
   "metadata": {},
   "outputs": [],
   "source": [
    "# #导入机器学习算法库\n",
    "# from sklearn.ensemble import RandomForestClassifier,GradientBoostingClassifier,ExtraTreesClassifier\n",
    "# from sklearn.discriminant_analysis import LinearDiscriminantAnalysis\n",
    "# from sklearn.linear_model import LogisticRegression\n",
    "# from sklearn.neighbors import KNeighborsClassifier\n",
    "# from sklearn.tree import DecisionTreeClassifier\n",
    "# from sklearn.svm import SVC\n",
    "# from sklearn.model_selection import GridSearchCV,cross_val_score,StratifiedKFold\n",
    "# from sklearn.ensemble import VotingClassifier #模型组合\n",
    "\n",
    "# #设置kfold\n",
    "# kfold=StratifiedKFold(n_splits=10) #利用分层采样方法生成交叉验证数据集"
   ]
  },
  {
   "cell_type": "code",
   "execution_count": 935,
   "id": "2ea28504",
   "metadata": {},
   "outputs": [],
   "source": [
    "# #RandomForestCla模型\n",
    "# RFC = RandomForestClassifier()\n",
    "# rf_param_grid={'max_depth':[None],\n",
    "#               'max_features':[1,3,10],\n",
    "#               'min_samples_split':[2,3,10],\n",
    "#               'min_samples_leaf':[1,3,10],\n",
    "#               'bootstrap':[False],\n",
    "#               'n_estimators':[100,300],\n",
    "#               'criterion':['gini']}\n",
    "# modelgsRFC=GridSearchCV(RFC,param_grid=rf_param_grid,cv=kfold,\n",
    "#                        scoring='accuracy',n_jobs=-1,verbose=1)\n",
    "# modelgsRFC.fit(X, y)\n",
    "# RFC_best=modelgsRFC.best_estimator_"
   ]
  },
  {
   "cell_type": "code",
   "execution_count": 936,
   "id": "51d4e0c2",
   "metadata": {},
   "outputs": [
    {
     "data": {
      "text/plain": [
       "0.9090909090909091"
      ]
     },
     "execution_count": 936,
     "metadata": {},
     "output_type": "execute_result"
    }
   ],
   "source": [
    "def accuracy(predy, y):\n",
    "    return sum(predy == y) / len(y)\n",
    "\n",
    "gender = pd.read_csv('gender_submission.csv')\n",
    "gendery = gender['Survived']\n",
    "\n",
    "predict = pd.read_csv('submission.csv')\n",
    "predy = predict['Survived']\n",
    "\n",
    "# compare gendery and predy\n",
    "score = accuracy(predy, gendery)\n",
    "score"
   ]
  }
 ],
 "metadata": {
  "interpreter": {
   "hash": "e1f97f006b972e8dfe38a8d91c2bf2c031bf4f73ad3e0aca385f71094316cb0a"
  },
  "kernelspec": {
   "display_name": "Python 3.9.12 ('data')",
   "language": "python",
   "name": "python3"
  },
  "language_info": {
   "codemirror_mode": {
    "name": "ipython",
    "version": 3
   },
   "file_extension": ".py",
   "mimetype": "text/x-python",
   "name": "python",
   "nbconvert_exporter": "python",
   "pygments_lexer": "ipython3",
   "version": "3.9.12"
  },
  "papermill": {
   "default_parameters": {},
   "duration": 13.693163,
   "end_time": "2022-05-16T08:31:59.604376",
   "environment_variables": {},
   "exception": null,
   "input_path": "__notebook__.ipynb",
   "output_path": "__notebook__.ipynb",
   "parameters": {},
   "start_time": "2022-05-16T08:31:45.911213",
   "version": "2.3.4"
  }
 },
 "nbformat": 4,
 "nbformat_minor": 5
}
