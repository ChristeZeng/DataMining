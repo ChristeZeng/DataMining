{
 "cells": [
  {
   "cell_type": "markdown",
   "id": "bd7afd63",
   "metadata": {},
   "source": [
    "# Project: Titanic生存预测竞赛"
   ]
  },
  {
   "cell_type": "markdown",
   "id": "0962d633",
   "metadata": {},
   "source": [
    "## Introdution\n",
    "\n",
    "### 项目介绍\n",
    "本次项目是在Kaggle上的一个竞赛项目，项目名称为：[Titanic: Machine Learning from Disaster](https://www.kaggle.com/c/titanic)。本次实验使用对Titanic上的乘客数据集进行了数据挖掘，并且使用多种预测模型对乘客的生存状态进行了预测。最终也取得了很好的效果，获得了Kaggle竞赛排名的Top3%。\n",
    "\n",
    "在此实验中，我采用多种模型，多种参数和多种随机状态选择，在随机森林的最优调参上取得了最佳的结果，为方便起见我将预测文件一并提交并且描述了我的所有尝试过程。因为随机种子和交叉验证的分类集每次都会有比较大的差别，所以分数也会随着每次提交不断改变，在这里我附上了最佳结果的分数和预测文件my_best_submission.csv。\n",
    "![结果图](./res.png)\n",
    "\n",
    "### 项目流程\n",
    "本次实验采用了数据挖掘的经典流程进行处理：数据集分析与可视化，数据清洗与特征提取和训练模型\n",
    "* 数据分析与可视化：主要使用python可视化库对数据集重要部分做了分析\n",
    "* 数据清洗：使用Pandas读取数据，并对数据进行清洗，包括数据清洗、缺失值填充、特征工程、数据分割等。\n",
    "* 训练模型：尝试了大量模型，包括随机森林、决策树、支持向量机、KNN、SVM、逻辑回归、梯度提升树、神经网络等。\n",
    "\n",
    "### 主要方法与尝试\n",
    "本项目主要使用的方法与模型有：\n",
    "* 决策模型使用：\n",
    "  * GBDT：Gradient Boosting Decision Tree，梯度提升决策树。\n",
    "  * XGBoost：深度学习决策框架。\n",
    "  * Random Forest：随机森林。\n",
    "  * SVMC：Support Vector Machine Classifier，支持向量机分类器。\n",
    "* 组合预测模型的使用：使用投票树将上述决策模型进行ensemble。"
   ]
  },
  {
   "cell_type": "markdown",
   "id": "45cf40ee",
   "metadata": {},
   "source": [
    "### 数据集介绍\n",
    "本此比赛的数据集为Titanic上的乘客信息，具体的属性介绍如下：\n",
    "* PassengerId：乘客的编号。\n",
    "* Pclass：乘客的船舱等级，1为经济舱，2为豪华舱，3为商务舱。\n",
    "* Survived：乘客是否存活，0为死亡，1为生存。\n",
    "* Name：乘客的姓名。\n",
    "* Sex：乘客的性别\n",
    "* Age：乘客的年龄\n",
    "* SibSp：乘客的兄弟姐妹与配偶数量\n",
    "* Parch：乘客的父母与子女数量\n",
    "* Ticket：乘客的票的编号\n",
    "* Fare：票价\n",
    "* Cabin：乘客的座位号\n",
    "* Embarked：乘客的登船港口"
   ]
  },
  {
   "cell_type": "markdown",
   "id": "4968c426",
   "metadata": {},
   "source": [
    "## 数据清洗"
   ]
  },
  {
   "cell_type": "code",
   "execution_count": 220,
   "id": "5620b742",
   "metadata": {},
   "outputs": [],
   "source": [
    "import numpy as np \n",
    "import pandas as pd "
   ]
  },
  {
   "cell_type": "markdown",
   "id": "78d90af1",
   "metadata": {
    "papermill": {
     "duration": 0.015068,
     "end_time": "2022-05-16T08:31:55.843187",
     "exception": false,
     "start_time": "2022-05-16T08:31:55.828119",
     "status": "completed"
    },
    "tags": []
   },
   "source": [
    "### 加载数据集\n",
    "重新加载训练数据集，以防止前面数据分析部分对变量进行了修改"
   ]
  },
  {
   "cell_type": "code",
   "execution_count": 221,
   "id": "7ebc33d2",
   "metadata": {
    "execution": {
     "iopub.execute_input": "2022-05-16T08:31:55.891666Z",
     "iopub.status.busy": "2022-05-16T08:31:55.891376Z",
     "iopub.status.idle": "2022-05-16T08:31:55.919414Z",
     "shell.execute_reply": "2022-05-16T08:31:55.918746Z"
    },
    "papermill": {
     "duration": 0.053426,
     "end_time": "2022-05-16T08:31:55.921204",
     "exception": false,
     "start_time": "2022-05-16T08:31:55.867778",
     "status": "completed"
    },
    "tags": []
   },
   "outputs": [],
   "source": [
    "test_data = pd.read_csv(\"kaggle/input/titanic/test.csv\")\n",
    "train_data = pd.read_csv(\"kaggle/input/titanic/train.csv\")"
   ]
  },
  {
   "cell_type": "markdown",
   "id": "0e4480f6",
   "metadata": {},
   "source": [
    "为方便后续数据的清洗，现将测试集与训练集进行合并"
   ]
  },
  {
   "cell_type": "code",
   "execution_count": 222,
   "id": "0a7b805e",
   "metadata": {},
   "outputs": [],
   "source": [
    "# join the two datasets\n",
    "titanic = pd.concat([train_data, test_data])"
   ]
  },
  {
   "cell_type": "markdown",
   "id": "4f768211",
   "metadata": {},
   "source": [
    "合并后的数据集变为："
   ]
  },
  {
   "cell_type": "code",
   "execution_count": 223,
   "id": "771c4e46",
   "metadata": {
    "execution": {
     "iopub.execute_input": "2022-05-16T08:31:56.011276Z",
     "iopub.status.busy": "2022-05-16T08:31:56.010857Z",
     "iopub.status.idle": "2022-05-16T08:31:56.030253Z",
     "shell.execute_reply": "2022-05-16T08:31:56.028963Z"
    },
    "papermill": {
     "duration": 0.038282,
     "end_time": "2022-05-16T08:31:56.031877",
     "exception": false,
     "start_time": "2022-05-16T08:31:55.993595",
     "status": "completed"
    },
    "tags": []
   },
   "outputs": [
    {
     "data": {
      "text/html": [
       "<div>\n",
       "<style scoped>\n",
       "    .dataframe tbody tr th:only-of-type {\n",
       "        vertical-align: middle;\n",
       "    }\n",
       "\n",
       "    .dataframe tbody tr th {\n",
       "        vertical-align: top;\n",
       "    }\n",
       "\n",
       "    .dataframe thead th {\n",
       "        text-align: right;\n",
       "    }\n",
       "</style>\n",
       "<table border=\"1\" class=\"dataframe\">\n",
       "  <thead>\n",
       "    <tr style=\"text-align: right;\">\n",
       "      <th></th>\n",
       "      <th>PassengerId</th>\n",
       "      <th>Survived</th>\n",
       "      <th>Pclass</th>\n",
       "      <th>Name</th>\n",
       "      <th>Sex</th>\n",
       "      <th>Age</th>\n",
       "      <th>SibSp</th>\n",
       "      <th>Parch</th>\n",
       "      <th>Ticket</th>\n",
       "      <th>Fare</th>\n",
       "      <th>Cabin</th>\n",
       "      <th>Embarked</th>\n",
       "    </tr>\n",
       "  </thead>\n",
       "  <tbody>\n",
       "    <tr>\n",
       "      <th>0</th>\n",
       "      <td>1</td>\n",
       "      <td>0.0</td>\n",
       "      <td>3</td>\n",
       "      <td>Braund, Mr. Owen Harris</td>\n",
       "      <td>male</td>\n",
       "      <td>22.0</td>\n",
       "      <td>1</td>\n",
       "      <td>0</td>\n",
       "      <td>A/5 21171</td>\n",
       "      <td>7.2500</td>\n",
       "      <td>NaN</td>\n",
       "      <td>S</td>\n",
       "    </tr>\n",
       "    <tr>\n",
       "      <th>1</th>\n",
       "      <td>2</td>\n",
       "      <td>1.0</td>\n",
       "      <td>1</td>\n",
       "      <td>Cumings, Mrs. John Bradley (Florence Briggs Th...</td>\n",
       "      <td>female</td>\n",
       "      <td>38.0</td>\n",
       "      <td>1</td>\n",
       "      <td>0</td>\n",
       "      <td>PC 17599</td>\n",
       "      <td>71.2833</td>\n",
       "      <td>C85</td>\n",
       "      <td>C</td>\n",
       "    </tr>\n",
       "    <tr>\n",
       "      <th>2</th>\n",
       "      <td>3</td>\n",
       "      <td>1.0</td>\n",
       "      <td>3</td>\n",
       "      <td>Heikkinen, Miss. Laina</td>\n",
       "      <td>female</td>\n",
       "      <td>26.0</td>\n",
       "      <td>0</td>\n",
       "      <td>0</td>\n",
       "      <td>STON/O2. 3101282</td>\n",
       "      <td>7.9250</td>\n",
       "      <td>NaN</td>\n",
       "      <td>S</td>\n",
       "    </tr>\n",
       "    <tr>\n",
       "      <th>3</th>\n",
       "      <td>4</td>\n",
       "      <td>1.0</td>\n",
       "      <td>1</td>\n",
       "      <td>Futrelle, Mrs. Jacques Heath (Lily May Peel)</td>\n",
       "      <td>female</td>\n",
       "      <td>35.0</td>\n",
       "      <td>1</td>\n",
       "      <td>0</td>\n",
       "      <td>113803</td>\n",
       "      <td>53.1000</td>\n",
       "      <td>C123</td>\n",
       "      <td>S</td>\n",
       "    </tr>\n",
       "    <tr>\n",
       "      <th>4</th>\n",
       "      <td>5</td>\n",
       "      <td>0.0</td>\n",
       "      <td>3</td>\n",
       "      <td>Allen, Mr. William Henry</td>\n",
       "      <td>male</td>\n",
       "      <td>35.0</td>\n",
       "      <td>0</td>\n",
       "      <td>0</td>\n",
       "      <td>373450</td>\n",
       "      <td>8.0500</td>\n",
       "      <td>NaN</td>\n",
       "      <td>S</td>\n",
       "    </tr>\n",
       "  </tbody>\n",
       "</table>\n",
       "</div>"
      ],
      "text/plain": [
       "   PassengerId  Survived  Pclass  \\\n",
       "0            1       0.0       3   \n",
       "1            2       1.0       1   \n",
       "2            3       1.0       3   \n",
       "3            4       1.0       1   \n",
       "4            5       0.0       3   \n",
       "\n",
       "                                                Name     Sex   Age  SibSp  \\\n",
       "0                            Braund, Mr. Owen Harris    male  22.0      1   \n",
       "1  Cumings, Mrs. John Bradley (Florence Briggs Th...  female  38.0      1   \n",
       "2                             Heikkinen, Miss. Laina  female  26.0      0   \n",
       "3       Futrelle, Mrs. Jacques Heath (Lily May Peel)  female  35.0      1   \n",
       "4                           Allen, Mr. William Henry    male  35.0      0   \n",
       "\n",
       "   Parch            Ticket     Fare Cabin Embarked  \n",
       "0      0         A/5 21171   7.2500   NaN        S  \n",
       "1      0          PC 17599  71.2833   C85        C  \n",
       "2      0  STON/O2. 3101282   7.9250   NaN        S  \n",
       "3      0            113803  53.1000  C123        S  \n",
       "4      0            373450   8.0500   NaN        S  "
      ]
     },
     "execution_count": 223,
     "metadata": {},
     "output_type": "execute_result"
    }
   ],
   "source": [
    "titanic.head()"
   ]
  },
  {
   "cell_type": "markdown",
   "id": "6e9d43d6",
   "metadata": {
    "papermill": {
     "duration": 0.01553,
     "end_time": "2022-05-16T08:31:56.106397",
     "exception": false,
     "start_time": "2022-05-16T08:31:56.090867",
     "status": "completed"
    },
    "tags": []
   },
   "source": [
    "### 缺失值处理\n",
    "从新合并的数据集来看，在Age, Fare, Cabin, Embarked这四个属性上有缺失值需要进行处理。\n"
   ]
  },
  {
   "cell_type": "code",
   "execution_count": 224,
   "id": "b25f0f63",
   "metadata": {
    "execution": {
     "iopub.execute_input": "2022-05-16T08:31:56.064928Z",
     "iopub.status.busy": "2022-05-16T08:31:56.064331Z",
     "iopub.status.idle": "2022-05-16T08:31:56.073739Z",
     "shell.execute_reply": "2022-05-16T08:31:56.072712Z"
    },
    "papermill": {
     "duration": 0.028218,
     "end_time": "2022-05-16T08:31:56.075512",
     "exception": false,
     "start_time": "2022-05-16T08:31:56.047294",
     "status": "completed"
    },
    "tags": []
   },
   "outputs": [
    {
     "data": {
      "text/plain": [
       "PassengerId       0\n",
       "Survived        418\n",
       "Pclass            0\n",
       "Name              0\n",
       "Sex               0\n",
       "Age             263\n",
       "SibSp             0\n",
       "Parch             0\n",
       "Ticket            0\n",
       "Fare              1\n",
       "Cabin          1014\n",
       "Embarked          2\n",
       "dtype: int64"
      ]
     },
     "execution_count": 224,
     "metadata": {},
     "output_type": "execute_result"
    }
   ],
   "source": [
    "titanic.isnull().sum()"
   ]
  },
  {
   "cell_type": "markdown",
   "id": "14e0a32b",
   "metadata": {
    "papermill": {
     "duration": 0.015363,
     "end_time": "2022-05-16T08:31:56.137503",
     "exception": false,
     "start_time": "2022-05-16T08:31:56.122140",
     "status": "completed"
    },
    "tags": []
   },
   "source": [
    "Embarked和Cabin都是类型数据，并且在数据分析中没有看出与别的属性有明显的区别，首先考虑以下处理方式：\n",
    "* Embarked属性缺失较少，所以我选择直接使用最多的类来进行缺失值的填补\n",
    "* 对于Cabin，将缺失值标志位U (Unknown)，并且仅取第一个字母作为有效值"
   ]
  },
  {
   "cell_type": "code",
   "execution_count": 225,
   "id": "5e3c8dac",
   "metadata": {
    "execution": {
     "iopub.execute_input": "2022-05-16T08:31:56.225013Z",
     "iopub.status.busy": "2022-05-16T08:31:56.224085Z",
     "iopub.status.idle": "2022-05-16T08:31:56.253755Z",
     "shell.execute_reply": "2022-05-16T08:31:56.253007Z"
    },
    "papermill": {
     "duration": 0.048779,
     "end_time": "2022-05-16T08:31:56.255750",
     "exception": false,
     "start_time": "2022-05-16T08:31:56.206971",
     "status": "completed"
    },
    "tags": []
   },
   "outputs": [],
   "source": [
    "titanic['Embarked'].fillna('S', inplace = True)\n",
    "titanic['Cabin'].fillna('U', inplace = True)\n",
    "titanic['Cabin'] = titanic['Cabin'].map(lambda x: x[0])"
   ]
  },
  {
   "cell_type": "markdown",
   "id": "e11eccd8",
   "metadata": {},
   "source": [
    "Fare缺失值虽然是数值属性，但缺失值只有一个并且再数据分析部分已经得出结论：Fare与Pclass高度相关，所以直接使用同一Pclass的票价均值来填补缺失。"
   ]
  },
  {
   "cell_type": "code",
   "execution_count": 226,
   "id": "466c680d",
   "metadata": {},
   "outputs": [],
   "source": [
    "titanic['Fare'].fillna(titanic.groupby('Pclass')['Fare'].transform('median'), inplace=True)"
   ]
  },
  {
   "cell_type": "code",
   "execution_count": 227,
   "id": "1677c33b",
   "metadata": {},
   "outputs": [
    {
     "name": "stdout",
     "output_type": "stream",
     "text": [
      "PassengerId      0\n",
      "Survived       418\n",
      "Pclass           0\n",
      "Name             0\n",
      "Sex              0\n",
      "Age            263\n",
      "SibSp            0\n",
      "Parch            0\n",
      "Ticket           0\n",
      "Fare             0\n",
      "Cabin            0\n",
      "Embarked         0\n",
      "dtype: int64\n"
     ]
    }
   ],
   "source": [
    "print(titanic.isnull().sum())"
   ]
  },
  {
   "cell_type": "markdown",
   "id": "837e50c9",
   "metadata": {},
   "source": [
    "### 特征提取"
   ]
  },
  {
   "cell_type": "markdown",
   "id": "d11762ca",
   "metadata": {},
   "source": [
    "首先需要处理的是Name属性，通过直接观察，我们发现Name中会带有职位或者性别信息，所以通过分割进行处理。"
   ]
  },
  {
   "cell_type": "code",
   "execution_count": 228,
   "id": "404233da",
   "metadata": {},
   "outputs": [
    {
     "data": {
      "text/plain": [
       "Mr              757\n",
       "Miss            260\n",
       "Mrs             197\n",
       "Master           61\n",
       "Rev               8\n",
       "Dr                8\n",
       "Col               4\n",
       "Mlle              2\n",
       "Major             2\n",
       "Ms                2\n",
       "Lady              1\n",
       "Sir               1\n",
       "Mme               1\n",
       "Don               1\n",
       "Capt              1\n",
       "the Countess      1\n",
       "Jonkheer          1\n",
       "Dona              1\n",
       "Name: Title, dtype: int64"
      ]
     },
     "execution_count": 228,
     "metadata": {},
     "output_type": "execute_result"
    }
   ],
   "source": [
    "titanic['Title'] = titanic['Name'].map(lambda x: x.split(',')[1].split('.')[0].strip())\n",
    "titanic.drop('Name', axis=1, inplace=True)\n",
    "titanic['Title'].value_counts()"
   ]
  },
  {
   "cell_type": "code",
   "execution_count": 229,
   "id": "a794bf0d",
   "metadata": {},
   "outputs": [
    {
     "name": "stdout",
     "output_type": "stream",
     "text": [
      "PassengerId      0\n",
      "Survived       418\n",
      "Pclass           0\n",
      "Sex              0\n",
      "Age            263\n",
      "SibSp            0\n",
      "Parch            0\n",
      "Ticket           0\n",
      "Fare             0\n",
      "Cabin            0\n",
      "Embarked         0\n",
      "Title            0\n",
      "dtype: int64\n"
     ]
    }
   ],
   "source": [
    "print(titanic.isnull().sum())"
   ]
  },
  {
   "cell_type": "code",
   "execution_count": 230,
   "id": "b4d25697",
   "metadata": {},
   "outputs": [
    {
     "data": {
      "text/plain": [
       "Mr        767\n",
       "Miss      268\n",
       "Mrs       197\n",
       "Master     61\n",
       "Rev         8\n",
       "Dr          8\n",
       "Name: Title, dtype: int64"
      ]
     },
     "execution_count": 230,
     "metadata": {},
     "output_type": "execute_result"
    }
   ],
   "source": [
    "titanic['Title'].replace(['Mme', 'Ms', 'Lady', 'Mlle', 'the Countess', 'Dona'], 'Miss', inplace=True)\n",
    "titanic['Title'].replace(['Major', 'Col', 'Capt', 'Don', 'Sir', 'Jonkheer'], 'Mr', inplace=True)\n",
    "\n",
    "titanic['Title'].value_counts()"
   ]
  },
  {
   "cell_type": "markdown",
   "id": "f340eb5d",
   "metadata": {},
   "source": [
    "接下来分析SibSp与Parch这一属性，这一属性反映的是家庭成员数量，在决策树模型，连续的数值是不必要甚至影响正确判断的，所以需要根据家庭成员数量的大小将乘客分类为四种类型=。"
   ]
  },
  {
   "cell_type": "code",
   "execution_count": 231,
   "id": "e657f128",
   "metadata": {},
   "outputs": [
    {
     "data": {
      "text/plain": [
       "Single    790\n",
       "Small     437\n",
       "Medium     63\n",
       "Large      19\n",
       "Name: Family, dtype: int64"
      ]
     },
     "execution_count": 231,
     "metadata": {},
     "output_type": "execute_result"
    }
   ],
   "source": [
    "titanic['FamilySize'] = titanic['SibSp'] + titanic['Parch'] + 1\n",
    "titanic['Family'] = pd.cut(titanic['FamilySize'], [0, 1, 4, 7, 11], labels=['Single', 'Small', 'Medium', 'Large'])\n",
    "titanic.drop(['SibSp', 'Parch', 'FamilySize'], axis=1, inplace=True)\n",
    "titanic['Family'].value_counts()"
   ]
  },
  {
   "cell_type": "markdown",
   "id": "026ccc5c",
   "metadata": {},
   "source": [
    "暂时无法从Ticket中发掘出有用的信息，所以在此实验中我将Ticket忽略"
   ]
  },
  {
   "cell_type": "code",
   "execution_count": 232,
   "id": "ecf09291",
   "metadata": {},
   "outputs": [],
   "source": [
    "titanic['TicketNumber'] = titanic.Ticket.apply(lambda x: len(x))\n",
    "titanic['TicketHead'] = titanic.Ticket.apply(lambda x: x[:2])\n",
    "titanic.drop(['Ticket'], axis=1, inplace=True)"
   ]
  },
  {
   "cell_type": "markdown",
   "id": "3556e109",
   "metadata": {},
   "source": [
    "经过上述一系列处理，最终得到了以下特征："
   ]
  },
  {
   "cell_type": "code",
   "execution_count": 233,
   "id": "4b138711",
   "metadata": {},
   "outputs": [
    {
     "data": {
      "text/html": [
       "<div>\n",
       "<style scoped>\n",
       "    .dataframe tbody tr th:only-of-type {\n",
       "        vertical-align: middle;\n",
       "    }\n",
       "\n",
       "    .dataframe tbody tr th {\n",
       "        vertical-align: top;\n",
       "    }\n",
       "\n",
       "    .dataframe thead th {\n",
       "        text-align: right;\n",
       "    }\n",
       "</style>\n",
       "<table border=\"1\" class=\"dataframe\">\n",
       "  <thead>\n",
       "    <tr style=\"text-align: right;\">\n",
       "      <th></th>\n",
       "      <th>PassengerId</th>\n",
       "      <th>Survived</th>\n",
       "      <th>Pclass</th>\n",
       "      <th>Sex</th>\n",
       "      <th>Age</th>\n",
       "      <th>Fare</th>\n",
       "      <th>Cabin</th>\n",
       "      <th>Embarked</th>\n",
       "      <th>Title</th>\n",
       "      <th>Family</th>\n",
       "      <th>TicketNumber</th>\n",
       "      <th>TicketHead</th>\n",
       "    </tr>\n",
       "  </thead>\n",
       "  <tbody>\n",
       "    <tr>\n",
       "      <th>0</th>\n",
       "      <td>1</td>\n",
       "      <td>0.0</td>\n",
       "      <td>3</td>\n",
       "      <td>male</td>\n",
       "      <td>22.0</td>\n",
       "      <td>7.2500</td>\n",
       "      <td>U</td>\n",
       "      <td>S</td>\n",
       "      <td>Mr</td>\n",
       "      <td>Small</td>\n",
       "      <td>9</td>\n",
       "      <td>A/</td>\n",
       "    </tr>\n",
       "    <tr>\n",
       "      <th>1</th>\n",
       "      <td>2</td>\n",
       "      <td>1.0</td>\n",
       "      <td>1</td>\n",
       "      <td>female</td>\n",
       "      <td>38.0</td>\n",
       "      <td>71.2833</td>\n",
       "      <td>C</td>\n",
       "      <td>C</td>\n",
       "      <td>Mrs</td>\n",
       "      <td>Small</td>\n",
       "      <td>8</td>\n",
       "      <td>PC</td>\n",
       "    </tr>\n",
       "    <tr>\n",
       "      <th>2</th>\n",
       "      <td>3</td>\n",
       "      <td>1.0</td>\n",
       "      <td>3</td>\n",
       "      <td>female</td>\n",
       "      <td>26.0</td>\n",
       "      <td>7.9250</td>\n",
       "      <td>U</td>\n",
       "      <td>S</td>\n",
       "      <td>Miss</td>\n",
       "      <td>Single</td>\n",
       "      <td>16</td>\n",
       "      <td>ST</td>\n",
       "    </tr>\n",
       "    <tr>\n",
       "      <th>3</th>\n",
       "      <td>4</td>\n",
       "      <td>1.0</td>\n",
       "      <td>1</td>\n",
       "      <td>female</td>\n",
       "      <td>35.0</td>\n",
       "      <td>53.1000</td>\n",
       "      <td>C</td>\n",
       "      <td>S</td>\n",
       "      <td>Mrs</td>\n",
       "      <td>Small</td>\n",
       "      <td>6</td>\n",
       "      <td>11</td>\n",
       "    </tr>\n",
       "    <tr>\n",
       "      <th>4</th>\n",
       "      <td>5</td>\n",
       "      <td>0.0</td>\n",
       "      <td>3</td>\n",
       "      <td>male</td>\n",
       "      <td>35.0</td>\n",
       "      <td>8.0500</td>\n",
       "      <td>U</td>\n",
       "      <td>S</td>\n",
       "      <td>Mr</td>\n",
       "      <td>Single</td>\n",
       "      <td>6</td>\n",
       "      <td>37</td>\n",
       "    </tr>\n",
       "  </tbody>\n",
       "</table>\n",
       "</div>"
      ],
      "text/plain": [
       "   PassengerId  Survived  Pclass     Sex   Age     Fare Cabin Embarked Title  \\\n",
       "0            1       0.0       3    male  22.0   7.2500     U        S    Mr   \n",
       "1            2       1.0       1  female  38.0  71.2833     C        C   Mrs   \n",
       "2            3       1.0       3  female  26.0   7.9250     U        S  Miss   \n",
       "3            4       1.0       1  female  35.0  53.1000     C        S   Mrs   \n",
       "4            5       0.0       3    male  35.0   8.0500     U        S    Mr   \n",
       "\n",
       "   Family  TicketNumber TicketHead  \n",
       "0   Small             9         A/  \n",
       "1   Small             8         PC  \n",
       "2  Single            16         ST  \n",
       "3   Small             6         11  \n",
       "4  Single             6         37  "
      ]
     },
     "execution_count": 233,
     "metadata": {},
     "output_type": "execute_result"
    }
   ],
   "source": [
    "titanic.head()"
   ]
  },
  {
   "cell_type": "markdown",
   "id": "a335b338",
   "metadata": {},
   "source": [
    "一切都转化完毕后可以查看现在的数据集如下："
   ]
  },
  {
   "cell_type": "code",
   "execution_count": 235,
   "id": "430c5687",
   "metadata": {},
   "outputs": [
    {
     "name": "stdout",
     "output_type": "stream",
     "text": [
      "<class 'pandas.core.frame.DataFrame'>\n",
      "Int64Index: 1309 entries, 0 to 417\n",
      "Data columns (total 12 columns):\n",
      " #   Column        Non-Null Count  Dtype   \n",
      "---  ------        --------------  -----   \n",
      " 0   PassengerId   1309 non-null   int64   \n",
      " 1   Survived      891 non-null    float64 \n",
      " 2   Pclass        1309 non-null   int64   \n",
      " 3   Sex           1309 non-null   object  \n",
      " 4   Age           1046 non-null   float64 \n",
      " 5   Fare          1309 non-null   float64 \n",
      " 6   Cabin         1309 non-null   object  \n",
      " 7   Embarked      1309 non-null   object  \n",
      " 8   Title         1309 non-null   object  \n",
      " 9   Family        1309 non-null   category\n",
      " 10  TicketNumber  1309 non-null   int64   \n",
      " 11  TicketHead    1309 non-null   object  \n",
      "dtypes: category(1), float64(3), int64(3), object(5)\n",
      "memory usage: 124.2+ KB\n"
     ]
    }
   ],
   "source": [
    "titanic.info()"
   ]
  },
  {
   "cell_type": "code",
   "execution_count": 237,
   "id": "22cd75cf",
   "metadata": {},
   "outputs": [
    {
     "name": "stdout",
     "output_type": "stream",
     "text": [
      "PassengerId       0\n",
      "Survived        418\n",
      "Pclass            0\n",
      "Sex               0\n",
      "Age             263\n",
      "Fare              0\n",
      "Cabin             0\n",
      "Embarked          0\n",
      "Title             0\n",
      "Family            0\n",
      "TicketNumber      0\n",
      "TicketHead        0\n",
      "dtype: int64\n"
     ]
    }
   ],
   "source": [
    "print(titanic.isnull().sum())"
   ]
  },
  {
   "cell_type": "markdown",
   "id": "5a96ba1e",
   "metadata": {},
   "source": [
    "## 模型预测\n",
    "数据清洗和特征提取完毕之后就可以使用模型进行学习和预测了，首先恢复测试集与训练集"
   ]
  },
  {
   "cell_type": "code",
   "execution_count": 238,
   "id": "7f654a48",
   "metadata": {},
   "outputs": [],
   "source": [
    "traindata = titanic[titanic['Survived'].notnull()]\n",
    "testdata = titanic[titanic['Survived'].isnull()]"
   ]
  },
  {
   "cell_type": "code",
   "execution_count": 239,
   "id": "33362420",
   "metadata": {},
   "outputs": [
    {
     "name": "stderr",
     "output_type": "stream",
     "text": [
      "C:\\Users\\chris\\AppData\\Local\\Temp\\ipykernel_20548\\948573567.py:2: SettingWithCopyWarning: \n",
      "A value is trying to be set on a copy of a slice from a DataFrame.\n",
      "Try using .loc[row_indexer,col_indexer] = value instead\n",
      "\n",
      "See the caveats in the documentation: https://pandas.pydata.org/pandas-docs/stable/user_guide/indexing.html#returning-a-view-versus-a-copy\n",
      "  traindata['Survived'] = traindata['Survived'].astype(int)\n"
     ]
    },
    {
     "data": {
      "text/html": [
       "<div>\n",
       "<style scoped>\n",
       "    .dataframe tbody tr th:only-of-type {\n",
       "        vertical-align: middle;\n",
       "    }\n",
       "\n",
       "    .dataframe tbody tr th {\n",
       "        vertical-align: top;\n",
       "    }\n",
       "\n",
       "    .dataframe thead th {\n",
       "        text-align: right;\n",
       "    }\n",
       "</style>\n",
       "<table border=\"1\" class=\"dataframe\">\n",
       "  <thead>\n",
       "    <tr style=\"text-align: right;\">\n",
       "      <th></th>\n",
       "      <th>PassengerId</th>\n",
       "      <th>Survived</th>\n",
       "      <th>Pclass</th>\n",
       "      <th>Sex</th>\n",
       "      <th>Age</th>\n",
       "      <th>Fare</th>\n",
       "      <th>Cabin</th>\n",
       "      <th>Embarked</th>\n",
       "      <th>Title</th>\n",
       "      <th>Family</th>\n",
       "      <th>TicketNumber</th>\n",
       "      <th>TicketHead</th>\n",
       "    </tr>\n",
       "  </thead>\n",
       "  <tbody>\n",
       "    <tr>\n",
       "      <th>0</th>\n",
       "      <td>1</td>\n",
       "      <td>0</td>\n",
       "      <td>3</td>\n",
       "      <td>male</td>\n",
       "      <td>22.0</td>\n",
       "      <td>7.2500</td>\n",
       "      <td>U</td>\n",
       "      <td>S</td>\n",
       "      <td>Mr</td>\n",
       "      <td>Small</td>\n",
       "      <td>9</td>\n",
       "      <td>A/</td>\n",
       "    </tr>\n",
       "    <tr>\n",
       "      <th>1</th>\n",
       "      <td>2</td>\n",
       "      <td>1</td>\n",
       "      <td>1</td>\n",
       "      <td>female</td>\n",
       "      <td>38.0</td>\n",
       "      <td>71.2833</td>\n",
       "      <td>C</td>\n",
       "      <td>C</td>\n",
       "      <td>Mrs</td>\n",
       "      <td>Small</td>\n",
       "      <td>8</td>\n",
       "      <td>PC</td>\n",
       "    </tr>\n",
       "    <tr>\n",
       "      <th>2</th>\n",
       "      <td>3</td>\n",
       "      <td>1</td>\n",
       "      <td>3</td>\n",
       "      <td>female</td>\n",
       "      <td>26.0</td>\n",
       "      <td>7.9250</td>\n",
       "      <td>U</td>\n",
       "      <td>S</td>\n",
       "      <td>Miss</td>\n",
       "      <td>Single</td>\n",
       "      <td>16</td>\n",
       "      <td>ST</td>\n",
       "    </tr>\n",
       "    <tr>\n",
       "      <th>3</th>\n",
       "      <td>4</td>\n",
       "      <td>1</td>\n",
       "      <td>1</td>\n",
       "      <td>female</td>\n",
       "      <td>35.0</td>\n",
       "      <td>53.1000</td>\n",
       "      <td>C</td>\n",
       "      <td>S</td>\n",
       "      <td>Mrs</td>\n",
       "      <td>Small</td>\n",
       "      <td>6</td>\n",
       "      <td>11</td>\n",
       "    </tr>\n",
       "    <tr>\n",
       "      <th>4</th>\n",
       "      <td>5</td>\n",
       "      <td>0</td>\n",
       "      <td>3</td>\n",
       "      <td>male</td>\n",
       "      <td>35.0</td>\n",
       "      <td>8.0500</td>\n",
       "      <td>U</td>\n",
       "      <td>S</td>\n",
       "      <td>Mr</td>\n",
       "      <td>Single</td>\n",
       "      <td>6</td>\n",
       "      <td>37</td>\n",
       "    </tr>\n",
       "    <tr>\n",
       "      <th>...</th>\n",
       "      <td>...</td>\n",
       "      <td>...</td>\n",
       "      <td>...</td>\n",
       "      <td>...</td>\n",
       "      <td>...</td>\n",
       "      <td>...</td>\n",
       "      <td>...</td>\n",
       "      <td>...</td>\n",
       "      <td>...</td>\n",
       "      <td>...</td>\n",
       "      <td>...</td>\n",
       "      <td>...</td>\n",
       "    </tr>\n",
       "    <tr>\n",
       "      <th>886</th>\n",
       "      <td>887</td>\n",
       "      <td>0</td>\n",
       "      <td>2</td>\n",
       "      <td>male</td>\n",
       "      <td>27.0</td>\n",
       "      <td>13.0000</td>\n",
       "      <td>U</td>\n",
       "      <td>S</td>\n",
       "      <td>Rev</td>\n",
       "      <td>Single</td>\n",
       "      <td>6</td>\n",
       "      <td>21</td>\n",
       "    </tr>\n",
       "    <tr>\n",
       "      <th>887</th>\n",
       "      <td>888</td>\n",
       "      <td>1</td>\n",
       "      <td>1</td>\n",
       "      <td>female</td>\n",
       "      <td>19.0</td>\n",
       "      <td>30.0000</td>\n",
       "      <td>B</td>\n",
       "      <td>S</td>\n",
       "      <td>Miss</td>\n",
       "      <td>Single</td>\n",
       "      <td>6</td>\n",
       "      <td>11</td>\n",
       "    </tr>\n",
       "    <tr>\n",
       "      <th>888</th>\n",
       "      <td>889</td>\n",
       "      <td>0</td>\n",
       "      <td>3</td>\n",
       "      <td>female</td>\n",
       "      <td>NaN</td>\n",
       "      <td>23.4500</td>\n",
       "      <td>U</td>\n",
       "      <td>S</td>\n",
       "      <td>Miss</td>\n",
       "      <td>Small</td>\n",
       "      <td>10</td>\n",
       "      <td>W.</td>\n",
       "    </tr>\n",
       "    <tr>\n",
       "      <th>889</th>\n",
       "      <td>890</td>\n",
       "      <td>1</td>\n",
       "      <td>1</td>\n",
       "      <td>male</td>\n",
       "      <td>26.0</td>\n",
       "      <td>30.0000</td>\n",
       "      <td>C</td>\n",
       "      <td>C</td>\n",
       "      <td>Mr</td>\n",
       "      <td>Single</td>\n",
       "      <td>6</td>\n",
       "      <td>11</td>\n",
       "    </tr>\n",
       "    <tr>\n",
       "      <th>890</th>\n",
       "      <td>891</td>\n",
       "      <td>0</td>\n",
       "      <td>3</td>\n",
       "      <td>male</td>\n",
       "      <td>32.0</td>\n",
       "      <td>7.7500</td>\n",
       "      <td>U</td>\n",
       "      <td>Q</td>\n",
       "      <td>Mr</td>\n",
       "      <td>Single</td>\n",
       "      <td>6</td>\n",
       "      <td>37</td>\n",
       "    </tr>\n",
       "  </tbody>\n",
       "</table>\n",
       "<p>891 rows × 12 columns</p>\n",
       "</div>"
      ],
      "text/plain": [
       "     PassengerId  Survived  Pclass     Sex   Age     Fare Cabin Embarked  \\\n",
       "0              1         0       3    male  22.0   7.2500     U        S   \n",
       "1              2         1       1  female  38.0  71.2833     C        C   \n",
       "2              3         1       3  female  26.0   7.9250     U        S   \n",
       "3              4         1       1  female  35.0  53.1000     C        S   \n",
       "4              5         0       3    male  35.0   8.0500     U        S   \n",
       "..           ...       ...     ...     ...   ...      ...   ...      ...   \n",
       "886          887         0       2    male  27.0  13.0000     U        S   \n",
       "887          888         1       1  female  19.0  30.0000     B        S   \n",
       "888          889         0       3  female   NaN  23.4500     U        S   \n",
       "889          890         1       1    male  26.0  30.0000     C        C   \n",
       "890          891         0       3    male  32.0   7.7500     U        Q   \n",
       "\n",
       "    Title  Family  TicketNumber TicketHead  \n",
       "0      Mr   Small             9         A/  \n",
       "1     Mrs   Small             8         PC  \n",
       "2    Miss  Single            16         ST  \n",
       "3     Mrs   Small             6         11  \n",
       "4      Mr  Single             6         37  \n",
       "..    ...     ...           ...        ...  \n",
       "886   Rev  Single             6         21  \n",
       "887  Miss  Single             6         11  \n",
       "888  Miss   Small            10         W.  \n",
       "889    Mr  Single             6         11  \n",
       "890    Mr  Single             6         37  \n",
       "\n",
       "[891 rows x 12 columns]"
      ]
     },
     "execution_count": 239,
     "metadata": {},
     "output_type": "execute_result"
    }
   ],
   "source": [
    "# 将Survived类转为int类型\n",
    "traindata['Survived'] = traindata['Survived'].astype(int)\n",
    "traindata"
   ]
  },
  {
   "cell_type": "code",
   "execution_count": 240,
   "id": "c6783678",
   "metadata": {},
   "outputs": [
    {
     "data": {
      "text/html": [
       "<div>\n",
       "<style scoped>\n",
       "    .dataframe tbody tr th:only-of-type {\n",
       "        vertical-align: middle;\n",
       "    }\n",
       "\n",
       "    .dataframe tbody tr th {\n",
       "        vertical-align: top;\n",
       "    }\n",
       "\n",
       "    .dataframe thead th {\n",
       "        text-align: right;\n",
       "    }\n",
       "</style>\n",
       "<table border=\"1\" class=\"dataframe\">\n",
       "  <thead>\n",
       "    <tr style=\"text-align: right;\">\n",
       "      <th></th>\n",
       "      <th>PassengerId</th>\n",
       "      <th>Survived</th>\n",
       "      <th>Pclass</th>\n",
       "      <th>Sex</th>\n",
       "      <th>Age</th>\n",
       "      <th>Fare</th>\n",
       "      <th>Cabin</th>\n",
       "      <th>Embarked</th>\n",
       "      <th>Title</th>\n",
       "      <th>Family</th>\n",
       "      <th>TicketNumber</th>\n",
       "      <th>TicketHead</th>\n",
       "    </tr>\n",
       "  </thead>\n",
       "  <tbody>\n",
       "    <tr>\n",
       "      <th>0</th>\n",
       "      <td>892</td>\n",
       "      <td>NaN</td>\n",
       "      <td>3</td>\n",
       "      <td>male</td>\n",
       "      <td>34.5</td>\n",
       "      <td>7.8292</td>\n",
       "      <td>U</td>\n",
       "      <td>Q</td>\n",
       "      <td>Mr</td>\n",
       "      <td>Single</td>\n",
       "      <td>6</td>\n",
       "      <td>33</td>\n",
       "    </tr>\n",
       "    <tr>\n",
       "      <th>1</th>\n",
       "      <td>893</td>\n",
       "      <td>NaN</td>\n",
       "      <td>3</td>\n",
       "      <td>female</td>\n",
       "      <td>47.0</td>\n",
       "      <td>7.0000</td>\n",
       "      <td>U</td>\n",
       "      <td>S</td>\n",
       "      <td>Mrs</td>\n",
       "      <td>Small</td>\n",
       "      <td>6</td>\n",
       "      <td>36</td>\n",
       "    </tr>\n",
       "    <tr>\n",
       "      <th>2</th>\n",
       "      <td>894</td>\n",
       "      <td>NaN</td>\n",
       "      <td>2</td>\n",
       "      <td>male</td>\n",
       "      <td>62.0</td>\n",
       "      <td>9.6875</td>\n",
       "      <td>U</td>\n",
       "      <td>Q</td>\n",
       "      <td>Mr</td>\n",
       "      <td>Single</td>\n",
       "      <td>6</td>\n",
       "      <td>24</td>\n",
       "    </tr>\n",
       "    <tr>\n",
       "      <th>3</th>\n",
       "      <td>895</td>\n",
       "      <td>NaN</td>\n",
       "      <td>3</td>\n",
       "      <td>male</td>\n",
       "      <td>27.0</td>\n",
       "      <td>8.6625</td>\n",
       "      <td>U</td>\n",
       "      <td>S</td>\n",
       "      <td>Mr</td>\n",
       "      <td>Single</td>\n",
       "      <td>6</td>\n",
       "      <td>31</td>\n",
       "    </tr>\n",
       "    <tr>\n",
       "      <th>4</th>\n",
       "      <td>896</td>\n",
       "      <td>NaN</td>\n",
       "      <td>3</td>\n",
       "      <td>female</td>\n",
       "      <td>22.0</td>\n",
       "      <td>12.2875</td>\n",
       "      <td>U</td>\n",
       "      <td>S</td>\n",
       "      <td>Mrs</td>\n",
       "      <td>Small</td>\n",
       "      <td>7</td>\n",
       "      <td>31</td>\n",
       "    </tr>\n",
       "    <tr>\n",
       "      <th>...</th>\n",
       "      <td>...</td>\n",
       "      <td>...</td>\n",
       "      <td>...</td>\n",
       "      <td>...</td>\n",
       "      <td>...</td>\n",
       "      <td>...</td>\n",
       "      <td>...</td>\n",
       "      <td>...</td>\n",
       "      <td>...</td>\n",
       "      <td>...</td>\n",
       "      <td>...</td>\n",
       "      <td>...</td>\n",
       "    </tr>\n",
       "    <tr>\n",
       "      <th>413</th>\n",
       "      <td>1305</td>\n",
       "      <td>NaN</td>\n",
       "      <td>3</td>\n",
       "      <td>male</td>\n",
       "      <td>NaN</td>\n",
       "      <td>8.0500</td>\n",
       "      <td>U</td>\n",
       "      <td>S</td>\n",
       "      <td>Mr</td>\n",
       "      <td>Single</td>\n",
       "      <td>9</td>\n",
       "      <td>A.</td>\n",
       "    </tr>\n",
       "    <tr>\n",
       "      <th>414</th>\n",
       "      <td>1306</td>\n",
       "      <td>NaN</td>\n",
       "      <td>1</td>\n",
       "      <td>female</td>\n",
       "      <td>39.0</td>\n",
       "      <td>108.9000</td>\n",
       "      <td>C</td>\n",
       "      <td>C</td>\n",
       "      <td>Miss</td>\n",
       "      <td>Single</td>\n",
       "      <td>8</td>\n",
       "      <td>PC</td>\n",
       "    </tr>\n",
       "    <tr>\n",
       "      <th>415</th>\n",
       "      <td>1307</td>\n",
       "      <td>NaN</td>\n",
       "      <td>3</td>\n",
       "      <td>male</td>\n",
       "      <td>38.5</td>\n",
       "      <td>7.2500</td>\n",
       "      <td>U</td>\n",
       "      <td>S</td>\n",
       "      <td>Mr</td>\n",
       "      <td>Single</td>\n",
       "      <td>18</td>\n",
       "      <td>SO</td>\n",
       "    </tr>\n",
       "    <tr>\n",
       "      <th>416</th>\n",
       "      <td>1308</td>\n",
       "      <td>NaN</td>\n",
       "      <td>3</td>\n",
       "      <td>male</td>\n",
       "      <td>NaN</td>\n",
       "      <td>8.0500</td>\n",
       "      <td>U</td>\n",
       "      <td>S</td>\n",
       "      <td>Mr</td>\n",
       "      <td>Single</td>\n",
       "      <td>6</td>\n",
       "      <td>35</td>\n",
       "    </tr>\n",
       "    <tr>\n",
       "      <th>417</th>\n",
       "      <td>1309</td>\n",
       "      <td>NaN</td>\n",
       "      <td>3</td>\n",
       "      <td>male</td>\n",
       "      <td>NaN</td>\n",
       "      <td>22.3583</td>\n",
       "      <td>U</td>\n",
       "      <td>C</td>\n",
       "      <td>Master</td>\n",
       "      <td>Small</td>\n",
       "      <td>4</td>\n",
       "      <td>26</td>\n",
       "    </tr>\n",
       "  </tbody>\n",
       "</table>\n",
       "<p>418 rows × 12 columns</p>\n",
       "</div>"
      ],
      "text/plain": [
       "     PassengerId  Survived  Pclass     Sex   Age      Fare Cabin Embarked  \\\n",
       "0            892       NaN       3    male  34.5    7.8292     U        Q   \n",
       "1            893       NaN       3  female  47.0    7.0000     U        S   \n",
       "2            894       NaN       2    male  62.0    9.6875     U        Q   \n",
       "3            895       NaN       3    male  27.0    8.6625     U        S   \n",
       "4            896       NaN       3  female  22.0   12.2875     U        S   \n",
       "..           ...       ...     ...     ...   ...       ...   ...      ...   \n",
       "413         1305       NaN       3    male   NaN    8.0500     U        S   \n",
       "414         1306       NaN       1  female  39.0  108.9000     C        C   \n",
       "415         1307       NaN       3    male  38.5    7.2500     U        S   \n",
       "416         1308       NaN       3    male   NaN    8.0500     U        S   \n",
       "417         1309       NaN       3    male   NaN   22.3583     U        C   \n",
       "\n",
       "      Title  Family  TicketNumber TicketHead  \n",
       "0        Mr  Single             6         33  \n",
       "1       Mrs   Small             6         36  \n",
       "2        Mr  Single             6         24  \n",
       "3        Mr  Single             6         31  \n",
       "4       Mrs   Small             7         31  \n",
       "..      ...     ...           ...        ...  \n",
       "413      Mr  Single             9         A.  \n",
       "414    Miss  Single             8         PC  \n",
       "415      Mr  Single            18         SO  \n",
       "416      Mr  Single             6         35  \n",
       "417  Master   Small             4         26  \n",
       "\n",
       "[418 rows x 12 columns]"
      ]
     },
     "execution_count": 240,
     "metadata": {},
     "output_type": "execute_result"
    }
   ],
   "source": [
    "testdata"
   ]
  },
  {
   "cell_type": "markdown",
   "id": "57563b2e",
   "metadata": {},
   "source": [
    "### 随机森林"
   ]
  },
  {
   "cell_type": "code",
   "execution_count": 241,
   "id": "9def21be",
   "metadata": {},
   "outputs": [],
   "source": [
    "y = traindata['Survived']\n",
    "values = ['Pclass', 'Fare', 'Title', 'Embarked', 'Family', 'TicketNumber', 'TicketHead']\n",
    "X = traindata[values]\n",
    "X_test = testdata[values]"
   ]
  },
  {
   "cell_type": "code",
   "execution_count": 242,
   "id": "1791d0a5",
   "metadata": {},
   "outputs": [
    {
     "data": {
      "text/plain": [
       "Pipeline(steps=[('preprocessor',\n",
       "                 ColumnTransformer(transformers=[('num',\n",
       "                                                  SimpleImputer(strategy='median'),\n",
       "                                                  ['Fare']),\n",
       "                                                 ('cat',\n",
       "                                                  Pipeline(steps=[('imputer',\n",
       "                                                                   SimpleImputer(strategy='most_frequent')),\n",
       "                                                                  ('onehot',\n",
       "                                                                   OneHotEncoder(handle_unknown='ignore'))]),\n",
       "                                                  ['Pclass', 'Title',\n",
       "                                                   'Embarked', 'Family',\n",
       "                                                   'TicketNumber',\n",
       "                                                   'TicketHead'])])),\n",
       "                ('model',\n",
       "                 RandomForestClassifier(max_depth=5, n_estimators=500,\n",
       "                                        random_state=0))])"
      ]
     },
     "execution_count": 242,
     "metadata": {},
     "output_type": "execute_result"
    }
   ],
   "source": [
    "from sklearn.impute import SimpleImputer\n",
    "from sklearn.preprocessing import OneHotEncoder\n",
    "from sklearn.compose import ColumnTransformer\n",
    "from sklearn.pipeline import Pipeline\n",
    "from sklearn.ensemble import RandomForestClassifier\n",
    "\n",
    "preprocessor = ColumnTransformer(\n",
    "    transformers=[\n",
    "        (   'num', \n",
    "            SimpleImputer(strategy='median'), \n",
    "            ['Fare']\n",
    "        ),\n",
    "        (   'cat', \n",
    "            Pipeline(steps=[\n",
    "                ('imputer', SimpleImputer(strategy='most_frequent')),\n",
    "                ('onehot', OneHotEncoder(handle_unknown='ignore'))\n",
    "            ]), \n",
    "            ['Pclass', 'Title', 'Embarked', 'Family', 'TicketNumber', 'TicketHead']\n",
    "        )\n",
    "    ])\n",
    "\n",
    "model = Pipeline(steps=[\n",
    "    ('preprocessor', preprocessor),\n",
    "    ('model', RandomForestClassifier(random_state=0, n_estimators=500, max_depth=5))\n",
    "])\n",
    "\n",
    "model.fit(X, y)"
   ]
  },
  {
   "cell_type": "code",
   "execution_count": 243,
   "id": "18c9e116",
   "metadata": {},
   "outputs": [
    {
     "name": "stdout",
     "output_type": "stream",
     "text": [
      "Your submission was successfully saved!\n"
     ]
    }
   ],
   "source": [
    "predictions = model.predict(X_test)\n",
    "\n",
    "output = pd.DataFrame({'PassengerId': testdata.PassengerId, 'Survived': predictions})\n",
    "output.to_csv('submission3.csv', index=False)\n",
    "print('Your submission was successfully saved!')"
   ]
  }
 ],
 "metadata": {
  "interpreter": {
   "hash": "e1f97f006b972e8dfe38a8d91c2bf2c031bf4f73ad3e0aca385f71094316cb0a"
  },
  "kernelspec": {
   "display_name": "Python 3",
   "language": "python",
   "name": "python3"
  },
  "language_info": {
   "codemirror_mode": {
    "name": "ipython",
    "version": 3
   },
   "file_extension": ".py",
   "mimetype": "text/x-python",
   "name": "python",
   "nbconvert_exporter": "python",
   "pygments_lexer": "ipython3",
   "version": "3.9.12"
  },
  "papermill": {
   "default_parameters": {},
   "duration": 13.693163,
   "end_time": "2022-05-16T08:31:59.604376",
   "environment_variables": {},
   "exception": null,
   "input_path": "__notebook__.ipynb",
   "output_path": "__notebook__.ipynb",
   "parameters": {},
   "start_time": "2022-05-16T08:31:45.911213",
   "version": "2.3.4"
  }
 },
 "nbformat": 4,
 "nbformat_minor": 5
}
